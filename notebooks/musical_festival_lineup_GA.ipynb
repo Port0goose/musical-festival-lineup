{
 "cells": [
  {
   "cell_type": "code",
   "execution_count": 1,
   "id": "6c45c162",
   "metadata": {},
   "outputs": [],
   "source": [
    "import sys\n",
    "\n",
    "sys.path.append(\"..\")"
   ]
  },
  {
   "cell_type": "code",
   "execution_count": 2,
   "id": "20c7abe6",
   "metadata": {},
   "outputs": [],
   "source": [
    "%load_ext autoreload\n",
    "%autoreload 2"
   ]
  },
  {
   "cell_type": "code",
   "execution_count": 3,
   "id": "bdee15eb",
   "metadata": {},
   "outputs": [],
   "source": [
    "from library.algorithms.genetic_algorithms.crossover import partial_crossover\n",
    "from library.algorithms.genetic_algorithms import mutation, selection, algorithm,crossover\n",
    "from musical_festival_lineup.musical_festival_lineup_genetic import MusicalFestivalGASolution\n",
    "from musical_festival_lineup.musical_festival_lineup_roulette_wheel import RouletteWheel\n",
    "from musical_festival_lineup.musical_festival_data import MusicalFestivalData\n",
    "from musical_festival_lineup.utils import visualize_musical_lineup\n"
   ]
  },
  {
   "cell_type": "markdown",
   "id": "4abcf18a",
   "metadata": {},
   "source": [
    "## 1. Exploring Crossover, mutation, selection functions"
   ]
  },
  {
   "cell_type": "markdown",
   "id": "a7ef04b6",
   "metadata": {},
   "source": [
    "### 1.1. Crossover"
   ]
  },
  {
   "cell_type": "markdown",
   "id": "a8ce0958",
   "metadata": {},
   "source": [
    "### 1.1.1. Partial Crossover method"
   ]
  },
  {
   "cell_type": "code",
   "execution_count": 4,
   "id": "56c1e970",
   "metadata": {},
   "outputs": [
    {
     "name": "stdout",
     "output_type": "stream",
     "text": [
      "Parent 1 [8, 9, 10, 11, 12, 13, 14, 15]\n",
      "Parent 2 [15, 12, 8, 9, 13, 10, 11, 14]\n",
      "Crossover point1 2 e crossover point2 4\n",
      "OffSpring 1: segment [10, 11] maps {10: 8, 11: 9}\n",
      "OffSpring 2: segment [8, 9] maps {8: 10, 9: 11}\n",
      "OffSpring 1: head [15, 12] | segment [10, 11] | tail  [13, 8, 9, 14]\n",
      "OffSpring 2: head [10, 11] | segment [8, 9] | tail  [12, 13, 14, 15]\n"
     ]
    },
    {
     "data": {
      "text/plain": [
       "([15, 12, 10, 11, 13, 8, 9, 14], [10, 11, 8, 9, 12, 13, 14, 15])"
      ]
     },
     "execution_count": 4,
     "metadata": {},
     "output_type": "execute_result"
    }
   ],
   "source": [
    "partial_crossover([8,9,10,11,12,13,14,15],[15,12,8,9,13,10,11,14], verbose=True)"
   ]
  },
  {
   "cell_type": "markdown",
   "id": "b7241bec",
   "metadata": {},
   "source": [
    "### 1.2. Mutation \n"
   ]
  },
  {
   "cell_type": "markdown",
   "id": "1883ee43",
   "metadata": {},
   "source": [
    "#### 1.2.1. Swap Mutation"
   ]
  },
  {
   "cell_type": "code",
   "execution_count": 5,
   "id": "c58f9f1a",
   "metadata": {},
   "outputs": [
    {
     "data": {
      "text/plain": [
       "[8, 9, 10, 11, 12, 13, 14, 15]"
      ]
     },
     "execution_count": 5,
     "metadata": {},
     "output_type": "execute_result"
    }
   ],
   "source": [
    "mutation.swap_mutation([8,9,10,11,12,13,14,15], mut_prob=0.2)"
   ]
  },
  {
   "cell_type": "markdown",
   "id": "0419ac72",
   "metadata": {},
   "source": [
    "#### 1.2.2. Insert Mutation"
   ]
  },
  {
   "cell_type": "code",
   "execution_count": 6,
   "id": "e39d440b",
   "metadata": {},
   "outputs": [
    {
     "name": "stdout",
     "output_type": "stream",
     "text": [
      "Mutation not happening.\n"
     ]
    },
    {
     "data": {
      "text/plain": [
       "[8, 9, 10, 11, 12, 13, 14, 15]"
      ]
     },
     "execution_count": 6,
     "metadata": {},
     "output_type": "execute_result"
    }
   ],
   "source": [
    "mutation.insert_mutation([8,9,10,11,12,13,14,15], mut_prob=0.2, verbose=True)"
   ]
  },
  {
   "cell_type": "markdown",
   "id": "7920926c",
   "metadata": {},
   "source": [
    "#### 1.2.3. Reverse Mutation"
   ]
  },
  {
   "cell_type": "code",
   "execution_count": 7,
   "id": "1528a841",
   "metadata": {},
   "outputs": [
    {
     "name": "stdout",
     "output_type": "stream",
     "text": [
      "Mutation not happening.\n"
     ]
    },
    {
     "data": {
      "text/plain": [
       "[8, 9, 10, 11, 12, 13, 14, 15]"
      ]
     },
     "execution_count": 7,
     "metadata": {},
     "output_type": "execute_result"
    }
   ],
   "source": [
    "mutation.reverse_mutation([8,9,10,11,12,13,14,15], mut_prob=0.2, verbose=True)"
   ]
  },
  {
   "cell_type": "markdown",
   "id": "17466f68",
   "metadata": {},
   "source": [
    "#### 1.2.4. Rand Choice Mutation"
   ]
  },
  {
   "cell_type": "code",
   "execution_count": 8,
   "id": "21b09884",
   "metadata": {},
   "outputs": [
    {
     "name": "stdout",
     "output_type": "stream",
     "text": [
      "Mutation not happening.\n"
     ]
    },
    {
     "data": {
      "text/plain": [
       "[8, 9, 10, 11, 12, 13, 14, 15]"
      ]
     },
     "execution_count": 8,
     "metadata": {},
     "output_type": "execute_result"
    }
   ],
   "source": [
    "mutation.rand_choice_mutation([8,9,10,11,12,13,14,15], mut_prob=0.2, verbose=True)"
   ]
  },
  {
   "cell_type": "markdown",
   "id": "31d62741",
   "metadata": {},
   "source": [
    "### 2. Applying genetic Algorithm"
   ]
  },
  {
   "cell_type": "markdown",
   "id": "36647e49",
   "metadata": {},
   "source": [
    "- Definition of Initial Population "
   ]
  },
  {
   "cell_type": "code",
   "execution_count": 9,
   "id": "c6decdd2",
   "metadata": {},
   "outputs": [],
   "source": [
    "data=MusicalFestivalData()"
   ]
  },
  {
   "cell_type": "code",
   "execution_count": 10,
   "id": "9f423048",
   "metadata": {},
   "outputs": [],
   "source": [
    "def get_initial_population( mutation_function, crossover_function ,size=100):\n",
    "    initial_population=[\n",
    "        MusicalFestivalGASolution(\n",
    "            data=data,\n",
    "            mutation_function=mutation_function,\n",
    "            crossover_function=crossover_function\n",
    "\n",
    "        )\n",
    "        for _ in range(size)\n",
    "    ]\n",
    "    return initial_population"
   ]
  },
  {
   "cell_type": "markdown",
   "id": "eb72e005",
   "metadata": {},
   "source": [
    "#### 3.1. Selection X  and Crossover: Partial and Mutation: Swap"
   ]
  },
  {
   "cell_type": "markdown",
   "id": "70b07d26",
   "metadata": {},
   "source": [
    "- POP_SIZE=50 , max_gen=100, elitism=True, mut_prob=0.8"
   ]
  },
  {
   "cell_type": "code",
   "execution_count": 11,
   "id": "a5ef6fa7",
   "metadata": {},
   "outputs": [
    {
     "name": "stdout",
     "output_type": "stream",
     "text": [
      "Best solution [22, 1, 28, 33, 15, 31, 34, 21, 18, 29, 16, 19, 11, 7, 25, 3, 6, 10, 4, 0, 32, 27, 26, 8, 24, 23, 2, 17, 12, 30, 13, 5, 20, 14, 9]\n",
      "Fitness <bound method MusicalFestivalSolution.fitness of [22, 1, 28, 33, 15, 31, 34, 21, 18, 29, 16, 19, 11, 7, 25, 3, 6, 10, 4, 0, 32, 27, 26, 8, 24, 23, 2, 17, 12, 30, 13, 5, 20, 14, 9]>\n"
     ]
    }
   ],
   "source": [
    "initial_population=get_initial_population(mutation_function=mutation.swap_mutation, crossover_function=crossover.partial_crossover, size=50)\n",
    "best_solution=algorithm.genetic_algorithm(\n",
    "    initial_population=initial_population,\n",
    "    selection_algorithm=selection.fitness_proportionate_selection,\n",
    "    max_gen=100,\n",
    "    mut_prob=0.8,\n",
    "    maximization=True,\n",
    "    verbose=False,\n",
    "    elitism=True,\n",
    ")\n",
    "print(\"Best solution\", best_solution)\n",
    "print(\"Fitness\", best_solution.fitness)"
   ]
  },
  {
   "cell_type": "code",
   "execution_count": 12,
   "id": "4814545b",
   "metadata": {},
   "outputs": [
    {
     "name": "stdout",
     "output_type": "stream",
     "text": [
      "Fitness 1.4813184584178498\n"
     ]
    }
   ],
   "source": [
    "print(\"Fitness\", best_solution.fitness())"
   ]
  },
  {
   "cell_type": "code",
   "execution_count": 13,
   "id": "d022ac68",
   "metadata": {},
   "outputs": [
    {
     "data": {
      "text/html": [
       "<div>\n",
       "<style scoped>\n",
       "    .dataframe tbody tr th:only-of-type {\n",
       "        vertical-align: middle;\n",
       "    }\n",
       "\n",
       "    .dataframe tbody tr th {\n",
       "        vertical-align: top;\n",
       "    }\n",
       "\n",
       "    .dataframe thead th {\n",
       "        text-align: right;\n",
       "    }\n",
       "</style>\n",
       "<table border=\"1\" class=\"dataframe\">\n",
       "  <thead>\n",
       "    <tr style=\"text-align: right;\">\n",
       "      <th></th>\n",
       "      <th>Slot</th>\n",
       "      <th>Stage 1</th>\n",
       "      <th>Stage 2</th>\n",
       "      <th>Stage 3</th>\n",
       "      <th>Stage 4</th>\n",
       "      <th>Stage 5</th>\n",
       "    </tr>\n",
       "  </thead>\n",
       "  <tbody>\n",
       "    <tr>\n",
       "      <th>0</th>\n",
       "      <td>Slot 1</td>\n",
       "      <td>22: Quantum Beat|Hip-Hop|96</td>\n",
       "      <td>1: Solar Flare|Electronic|78</td>\n",
       "      <td>28: The Polyrhythm Syndicate|Jazz|66</td>\n",
       "      <td>33: Cosmic Frequency|Rock|53</td>\n",
       "      <td>15: Golden Ember|Rock|61</td>\n",
       "    </tr>\n",
       "    <tr>\n",
       "      <th>1</th>\n",
       "      <td>Slot 2</td>\n",
       "      <td>31: The Jazz Nomads|Jazz|64</td>\n",
       "      <td>34: Parallel Dimension|Electronic|58</td>\n",
       "      <td>21: Celestial Voyage|Electronic|95</td>\n",
       "      <td>18: Velvet Underground|Rock|72</td>\n",
       "      <td>29: Harmonic Dissonance|Classical|96</td>\n",
       "    </tr>\n",
       "    <tr>\n",
       "      <th>2</th>\n",
       "      <td>Slot 3</td>\n",
       "      <td>16: Mystic Rhythms|Classical|78</td>\n",
       "      <td>19: Astral Tide|Electronic|69</td>\n",
       "      <td>11: Phantom Groove|Hip-Hop|47</td>\n",
       "      <td>7: Static Mirage|Rock|94</td>\n",
       "      <td>25: Rhythm Alchemy|Jazz|94</td>\n",
       "    </tr>\n",
       "    <tr>\n",
       "      <th>3</th>\n",
       "      <td>Slot 4</td>\n",
       "      <td>3: Neon Reverie|Electronic|100</td>\n",
       "      <td>6: Aurora Skies|Pop|75</td>\n",
       "      <td>10: The Wandering Notes|Jazz|84</td>\n",
       "      <td>4: The Silver Owls|Classical|85</td>\n",
       "      <td>0: Midnight Echo|Rock|75</td>\n",
       "    </tr>\n",
       "    <tr>\n",
       "      <th>4</th>\n",
       "      <td>Slot 5</td>\n",
       "      <td>32: The Bassline Architects|Hip-Hop|61</td>\n",
       "      <td>27: Hypnotic Echoes|Rock|77</td>\n",
       "      <td>26: Cloud Nine Collective|Pop|97</td>\n",
       "      <td>8: Crimson Harmony|Classical|20</td>\n",
       "      <td>24: Shadow Cadence|Jazz|66</td>\n",
       "    </tr>\n",
       "    <tr>\n",
       "      <th>5</th>\n",
       "      <td>Slot 6</td>\n",
       "      <td>23: Electric Serpents|Electronic|99</td>\n",
       "      <td>2: Velvet Pulse|Jazz|35</td>\n",
       "      <td>17: Nightfall Sonata|Classical|84</td>\n",
       "      <td>12: Blue Horizon|Pop|51</td>\n",
       "      <td>30: Turbo Vortex|Rock|53</td>\n",
       "    </tr>\n",
       "    <tr>\n",
       "      <th>6</th>\n",
       "      <td>Slot 7</td>\n",
       "      <td>13: Lunar Spectrum|Rock|99</td>\n",
       "      <td>5: Echo Chamber|Electronic|98</td>\n",
       "      <td>20: The Sonic Drifters|Rock|88</td>\n",
       "      <td>14: Synthwave Saints|Rock|94</td>\n",
       "      <td>9: Deep Resonance|Jazz|90</td>\n",
       "    </tr>\n",
       "  </tbody>\n",
       "</table>\n",
       "</div>"
      ],
      "text/plain": [
       "     Slot                                 Stage 1  \\\n",
       "0  Slot 1             22: Quantum Beat|Hip-Hop|96   \n",
       "1  Slot 2             31: The Jazz Nomads|Jazz|64   \n",
       "2  Slot 3         16: Mystic Rhythms|Classical|78   \n",
       "3  Slot 4          3: Neon Reverie|Electronic|100   \n",
       "4  Slot 5  32: The Bassline Architects|Hip-Hop|61   \n",
       "5  Slot 6     23: Electric Serpents|Electronic|99   \n",
       "6  Slot 7              13: Lunar Spectrum|Rock|99   \n",
       "\n",
       "                                Stage 2                               Stage 3  \\\n",
       "0          1: Solar Flare|Electronic|78  28: The Polyrhythm Syndicate|Jazz|66   \n",
       "1  34: Parallel Dimension|Electronic|58    21: Celestial Voyage|Electronic|95   \n",
       "2         19: Astral Tide|Electronic|69         11: Phantom Groove|Hip-Hop|47   \n",
       "3                6: Aurora Skies|Pop|75       10: The Wandering Notes|Jazz|84   \n",
       "4           27: Hypnotic Echoes|Rock|77      26: Cloud Nine Collective|Pop|97   \n",
       "5               2: Velvet Pulse|Jazz|35     17: Nightfall Sonata|Classical|84   \n",
       "6         5: Echo Chamber|Electronic|98        20: The Sonic Drifters|Rock|88   \n",
       "\n",
       "                           Stage 4                               Stage 5  \n",
       "0     33: Cosmic Frequency|Rock|53              15: Golden Ember|Rock|61  \n",
       "1   18: Velvet Underground|Rock|72  29: Harmonic Dissonance|Classical|96  \n",
       "2         7: Static Mirage|Rock|94            25: Rhythm Alchemy|Jazz|94  \n",
       "3  4: The Silver Owls|Classical|85              0: Midnight Echo|Rock|75  \n",
       "4  8: Crimson Harmony|Classical|20            24: Shadow Cadence|Jazz|66  \n",
       "5          12: Blue Horizon|Pop|51              30: Turbo Vortex|Rock|53  \n",
       "6     14: Synthwave Saints|Rock|94             9: Deep Resonance|Jazz|90  "
      ]
     },
     "execution_count": 13,
     "metadata": {},
     "output_type": "execute_result"
    }
   ],
   "source": [
    "visualize_musical_lineup(best_solution.repr,data.artists)"
   ]
  },
  {
   "cell_type": "markdown",
   "id": "4af52be5",
   "metadata": {},
   "source": []
  },
  {
   "cell_type": "markdown",
   "id": "56ab9b82",
   "metadata": {},
   "source": [
    "### Roulette Wheel"
   ]
  },
  {
   "cell_type": "code",
   "execution_count": 16,
   "id": "e92c39ae",
   "metadata": {},
   "outputs": [],
   "source": [
    "roulette_wheel = RouletteWheel(initial_population)"
   ]
  },
  {
   "cell_type": "code",
   "execution_count": null,
   "id": "2a5da7c8",
   "metadata": {},
   "outputs": [
    {
     "name": "stdout",
     "output_type": "stream",
     "text": [
      "[1, 25, 8, 27, 5, 34, 32, 10, 6, 7, 23, 9, 26, 14, 3, 29, 17, 19, 20, 24, 11, 2, 13, 16, 15, 12, 33, 31, 4, 30, 22, 18, 21, 28, 0]\n"
     ]
    }
   ],
   "source": [
    "selected_individual = roulette_wheel.roulette_wheel_selection()\n",
    "\n",
    "print(selected_individual)"
   ]
  },
  {
   "cell_type": "code",
   "execution_count": 20,
   "id": "ff8b0f92",
   "metadata": {},
   "outputs": [
    {
     "name": "stdout",
     "output_type": "stream",
     "text": [
      "Fitness 1.2380440452042887\n"
     ]
    }
   ],
   "source": [
    "print(\"Fitness\", selected_individual.fitness())"
   ]
  },
  {
   "cell_type": "code",
   "execution_count": 19,
   "id": "e3b11463",
   "metadata": {},
   "outputs": [
    {
     "data": {
      "text/html": [
       "<div>\n",
       "<style scoped>\n",
       "    .dataframe tbody tr th:only-of-type {\n",
       "        vertical-align: middle;\n",
       "    }\n",
       "\n",
       "    .dataframe tbody tr th {\n",
       "        vertical-align: top;\n",
       "    }\n",
       "\n",
       "    .dataframe thead th {\n",
       "        text-align: right;\n",
       "    }\n",
       "</style>\n",
       "<table border=\"1\" class=\"dataframe\">\n",
       "  <thead>\n",
       "    <tr style=\"text-align: right;\">\n",
       "      <th></th>\n",
       "      <th>Slot</th>\n",
       "      <th>Stage 1</th>\n",
       "      <th>Stage 2</th>\n",
       "      <th>Stage 3</th>\n",
       "      <th>Stage 4</th>\n",
       "      <th>Stage 5</th>\n",
       "    </tr>\n",
       "  </thead>\n",
       "  <tbody>\n",
       "    <tr>\n",
       "      <th>0</th>\n",
       "      <td>Slot 1</td>\n",
       "      <td>1: Solar Flare|Electronic|78</td>\n",
       "      <td>25: Rhythm Alchemy|Jazz|94</td>\n",
       "      <td>8: Crimson Harmony|Classical|20</td>\n",
       "      <td>27: Hypnotic Echoes|Rock|77</td>\n",
       "      <td>5: Echo Chamber|Electronic|98</td>\n",
       "    </tr>\n",
       "    <tr>\n",
       "      <th>1</th>\n",
       "      <td>Slot 2</td>\n",
       "      <td>34: Parallel Dimension|Electronic|58</td>\n",
       "      <td>32: The Bassline Architects|Hip-Hop|61</td>\n",
       "      <td>10: The Wandering Notes|Jazz|84</td>\n",
       "      <td>6: Aurora Skies|Pop|75</td>\n",
       "      <td>7: Static Mirage|Rock|94</td>\n",
       "    </tr>\n",
       "    <tr>\n",
       "      <th>2</th>\n",
       "      <td>Slot 3</td>\n",
       "      <td>23: Electric Serpents|Electronic|99</td>\n",
       "      <td>9: Deep Resonance|Jazz|90</td>\n",
       "      <td>26: Cloud Nine Collective|Pop|97</td>\n",
       "      <td>14: Synthwave Saints|Rock|94</td>\n",
       "      <td>3: Neon Reverie|Electronic|100</td>\n",
       "    </tr>\n",
       "    <tr>\n",
       "      <th>3</th>\n",
       "      <td>Slot 4</td>\n",
       "      <td>29: Harmonic Dissonance|Classical|96</td>\n",
       "      <td>17: Nightfall Sonata|Classical|84</td>\n",
       "      <td>19: Astral Tide|Electronic|69</td>\n",
       "      <td>20: The Sonic Drifters|Rock|88</td>\n",
       "      <td>24: Shadow Cadence|Jazz|66</td>\n",
       "    </tr>\n",
       "    <tr>\n",
       "      <th>4</th>\n",
       "      <td>Slot 5</td>\n",
       "      <td>11: Phantom Groove|Hip-Hop|47</td>\n",
       "      <td>2: Velvet Pulse|Jazz|35</td>\n",
       "      <td>13: Lunar Spectrum|Rock|99</td>\n",
       "      <td>16: Mystic Rhythms|Classical|78</td>\n",
       "      <td>15: Golden Ember|Rock|61</td>\n",
       "    </tr>\n",
       "    <tr>\n",
       "      <th>5</th>\n",
       "      <td>Slot 6</td>\n",
       "      <td>12: Blue Horizon|Pop|51</td>\n",
       "      <td>33: Cosmic Frequency|Rock|53</td>\n",
       "      <td>31: The Jazz Nomads|Jazz|64</td>\n",
       "      <td>4: The Silver Owls|Classical|85</td>\n",
       "      <td>30: Turbo Vortex|Rock|53</td>\n",
       "    </tr>\n",
       "    <tr>\n",
       "      <th>6</th>\n",
       "      <td>Slot 7</td>\n",
       "      <td>22: Quantum Beat|Hip-Hop|96</td>\n",
       "      <td>18: Velvet Underground|Rock|72</td>\n",
       "      <td>21: Celestial Voyage|Electronic|95</td>\n",
       "      <td>28: The Polyrhythm Syndicate|Jazz|66</td>\n",
       "      <td>0: Midnight Echo|Rock|75</td>\n",
       "    </tr>\n",
       "  </tbody>\n",
       "</table>\n",
       "</div>"
      ],
      "text/plain": [
       "     Slot                               Stage 1  \\\n",
       "0  Slot 1          1: Solar Flare|Electronic|78   \n",
       "1  Slot 2  34: Parallel Dimension|Electronic|58   \n",
       "2  Slot 3   23: Electric Serpents|Electronic|99   \n",
       "3  Slot 4  29: Harmonic Dissonance|Classical|96   \n",
       "4  Slot 5         11: Phantom Groove|Hip-Hop|47   \n",
       "5  Slot 6               12: Blue Horizon|Pop|51   \n",
       "6  Slot 7           22: Quantum Beat|Hip-Hop|96   \n",
       "\n",
       "                                  Stage 2                             Stage 3  \\\n",
       "0              25: Rhythm Alchemy|Jazz|94     8: Crimson Harmony|Classical|20   \n",
       "1  32: The Bassline Architects|Hip-Hop|61     10: The Wandering Notes|Jazz|84   \n",
       "2               9: Deep Resonance|Jazz|90    26: Cloud Nine Collective|Pop|97   \n",
       "3       17: Nightfall Sonata|Classical|84       19: Astral Tide|Electronic|69   \n",
       "4                 2: Velvet Pulse|Jazz|35          13: Lunar Spectrum|Rock|99   \n",
       "5            33: Cosmic Frequency|Rock|53         31: The Jazz Nomads|Jazz|64   \n",
       "6          18: Velvet Underground|Rock|72  21: Celestial Voyage|Electronic|95   \n",
       "\n",
       "                                Stage 4                         Stage 5  \n",
       "0           27: Hypnotic Echoes|Rock|77   5: Echo Chamber|Electronic|98  \n",
       "1                6: Aurora Skies|Pop|75        7: Static Mirage|Rock|94  \n",
       "2          14: Synthwave Saints|Rock|94  3: Neon Reverie|Electronic|100  \n",
       "3        20: The Sonic Drifters|Rock|88      24: Shadow Cadence|Jazz|66  \n",
       "4       16: Mystic Rhythms|Classical|78        15: Golden Ember|Rock|61  \n",
       "5       4: The Silver Owls|Classical|85        30: Turbo Vortex|Rock|53  \n",
       "6  28: The Polyrhythm Syndicate|Jazz|66        0: Midnight Echo|Rock|75  "
      ]
     },
     "execution_count": 19,
     "metadata": {},
     "output_type": "execute_result"
    }
   ],
   "source": [
    "visualize_musical_lineup(selected_individual.repr,data.artists)"
   ]
  }
 ],
 "metadata": {
  "kernelspec": {
   "display_name": "Python 3 (ipykernel)",
   "language": "python",
   "name": "python3"
  },
  "language_info": {
   "codemirror_mode": {
    "name": "ipython",
    "version": 3
   },
   "file_extension": ".py",
   "mimetype": "text/x-python",
   "name": "python",
   "nbconvert_exporter": "python",
   "pygments_lexer": "ipython3",
   "version": "3.12.2"
  }
 },
 "nbformat": 4,
 "nbformat_minor": 5
}
