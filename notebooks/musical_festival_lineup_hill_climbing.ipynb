{
 "cells": [
  {
   "cell_type": "code",
   "execution_count": 35,
   "id": "2975f1f5",
   "metadata": {},
   "outputs": [],
   "source": [
    "\n",
    "# import sys\n",
    "# import os\n",
    "\n",
    "# # # Ensure the project root is correctly in sys.path\n",
    "# # project_root = os.path.abspath(os.path.join(os.getcwd(), \"..\"))\n",
    "# # if project_root not in sys.path:\n",
    "#     sys.path.insert(0, project_root)\n",
    "\n",
    "# # # Correct data paths\n",
    "# # artists_path = os.path.join(project_root, \"data\", \"artists.csv\")\n",
    "# # conflicts_path = os.path.join(project_root, \"data\", \"conflicts.csv\")\n"
   ]
  },
  {
   "cell_type": "code",
   "execution_count": 36,
   "id": "3980492e",
   "metadata": {},
   "outputs": [],
   "source": [
    "import sys\n",
    "\n",
    "sys.path.append(\"..\")"
   ]
  },
  {
   "cell_type": "code",
   "execution_count": null,
   "id": "a2ea54d3",
   "metadata": {},
   "outputs": [],
   "source": []
  },
  {
   "cell_type": "code",
   "execution_count": 37,
   "id": "d720dec2",
   "metadata": {},
   "outputs": [],
   "source": [
    "from musical_festival_lineup.musical_festival_lineup import MusicalFestivalSolution\n",
    "from musical_festival_lineup.musical_festival_data import MusicalFestivalData\n",
    "from musical_festival_lineup.utils import visualize_musical_lineup\n",
    "import numpy as np\n",
    "import time"
   ]
  },
  {
   "cell_type": "code",
   "execution_count": 38,
   "id": "2e6ac9d8",
   "metadata": {},
   "outputs": [
    {
     "name": "stdout",
     "output_type": "stream",
     "text": [
      "The autoreload extension is already loaded. To reload it, use:\n",
      "  %reload_ext autoreload\n"
     ]
    }
   ],
   "source": [
    "%load_ext autoreload\n",
    "%autoreload 2"
   ]
  },
  {
   "cell_type": "markdown",
   "id": "2ab12c7f",
   "metadata": {},
   "source": [
    "### 1. Structuring the problem"
   ]
  },
  {
   "cell_type": "markdown",
   "id": "8b5fc029",
   "metadata": {},
   "source": [
    "The  objective  is  to  design  the  optimal  festival  lineup  by  scheduling  artists  across  stages  and \n",
    "time  slots while:\n",
    "- Maximizing  prime  slot  popularity\n",
    "- Ensuring  genre  diversity  among  stages \n",
    "- Minimizing  fan conflicts  at each time slot. \n",
    "\n",
    "__`Details`__\n",
    "\n",
    "- **Artists**: An  artist is  characterized  by  a  popularity  score  (from  0  to  100) a genre  and  fan  base.\n",
    "    <br>This information with be on __`artists`__ from musical_festival_data\n",
    "\n",
    "- **Conflicts**:   with  other  artists  (score  from  0  to  1).  Conflicts  arise  when  artists  with  overlapping \n",
    "fan  bases  perform  at  the  same  time  but  on  different  stages,  which  can  negatively  impact \n",
    "attendance.\n",
    "    <br>This information will be on __`conflits`__ from musical_festival_data\n"
   ]
  },
  {
   "cell_type": "markdown",
   "id": "73465e4c",
   "metadata": {},
   "source": [
    "### 2. Defining a  solution/individual"
   ]
  },
  {
   "cell_type": "markdown",
   "id": "013d2e77",
   "metadata": {},
   "source": [
    "Each  individual  represents  a  festival  lineup,  specifying  which  artist  plays  on  which  stage  and \n",
    "at  which  time  slot. \n",
    "These  are  the  constraints  : \n",
    "- Each artist is assigned to exactly one stage and slot \n",
    "- All time slots start and end at the same time. \n",
    "- All stages have the same amount of slots\n",
    "- These artists should be distributed across  **5 stages  with  7 time slots each**\n",
    "\n",
    "__`Important`__ \n",
    "<br>Any  lineup  where  an  artist  is  assigned  to  **multiple  time  slots  or \n",
    "left  unassigned** is  not  part  of  the  search  space  and  is  not  considered  a  solution.  It  is \n",
    "forbidden to generate such an arrangement during evolution. \n"
   ]
  },
  {
   "cell_type": "markdown",
   "id": "d8de78be",
   "metadata": {},
   "source": [
    "__`we propose a  having  a solution as`__:\n",
    "\n",
    "- A string of 5 (stages)*7(slots)= 35 numbers of **1** to **35**\n",
    "- As for the genetic algorithms, we should have string of the same size, we will be appending a 0 to 1 digit numbers.\n",
    "- So the solution will be a string of 35 * 2 (two character)= so will have i string of 70\n",
    "\n",
    "Here a individual of our problem:"
   ]
  },
  {
   "cell_type": "code",
   "execution_count": 39,
   "id": "ff30a1b8",
   "metadata": {},
   "outputs": [],
   "source": [
    "data = MusicalFestivalData()"
   ]
  },
  {
   "cell_type": "code",
   "execution_count": 40,
   "id": "836d8e2a",
   "metadata": {},
   "outputs": [
    {
     "data": {
      "text/plain": [
       "'24,6,8,34,23,2,18,29,10,30,33,1,25,19,17,31,12,16,26,14,15,5,32,7,3,20,0,4,22,9,27,28,13,11,21'"
      ]
     },
     "execution_count": 40,
     "metadata": {},
     "output_type": "execute_result"
    }
   ],
   "source": [
    "lineup=MusicalFestivalSolution(data=data, repr=\"2406083423021829103033012519173112162614150532070320000422092728131121\")\n",
    "\",\".join([ str(i) for i in lineup.repr])"
   ]
  },
  {
   "cell_type": "code",
   "execution_count": 41,
   "id": "c1e68a68",
   "metadata": {},
   "outputs": [
    {
     "data": {
      "text/plain": [
       "'34,2,1,23,6,27,33,15,18,32,14,10,16,13,29,19,5,0,3,25,26,7,31,11,12,20,24,8,17,30,22,9,28,21,4'"
      ]
     },
     "execution_count": 41,
     "metadata": {},
     "output_type": "execute_result"
    }
   ],
   "source": [
    "# Python code to show a random initialized solution\n",
    "lineup=MusicalFestivalSolution(data=data)\n",
    "\",\".join([ str(i) for i in lineup.repr])"
   ]
  },
  {
   "cell_type": "markdown",
   "id": "2b655590",
   "metadata": {},
   "source": [
    "- Having that, we have to options:\n",
    "- 1. The first 7 numbers represent the stage 1 , having each of the 7 representing the slots in  order (1 to 7) by the slot?\n",
    "- 2. Or the first 5 would represent the slot 1 (first time slot) , having the each of the 5 representing the stages in order (1 to 5)?\n",
    "\n",
    "For that we choose the option 2, because how our fitness will be defined. It is well explained in the session 3, when defining fitness\n"
   ]
  },
  {
   "cell_type": "code",
   "execution_count": 42,
   "id": "5faa7862",
   "metadata": {},
   "outputs": [
    {
     "data": {
      "text/html": [
       "<div>\n",
       "<style scoped>\n",
       "    .dataframe tbody tr th:only-of-type {\n",
       "        vertical-align: middle;\n",
       "    }\n",
       "\n",
       "    .dataframe tbody tr th {\n",
       "        vertical-align: top;\n",
       "    }\n",
       "\n",
       "    .dataframe thead th {\n",
       "        text-align: right;\n",
       "    }\n",
       "</style>\n",
       "<table border=\"1\" class=\"dataframe\">\n",
       "  <thead>\n",
       "    <tr style=\"text-align: right;\">\n",
       "      <th></th>\n",
       "      <th>Slot</th>\n",
       "      <th>Stage 1</th>\n",
       "      <th>Stage 2</th>\n",
       "      <th>Stage 3</th>\n",
       "      <th>Stage 4</th>\n",
       "      <th>Stage 5</th>\n",
       "    </tr>\n",
       "  </thead>\n",
       "  <tbody>\n",
       "    <tr>\n",
       "      <th>0</th>\n",
       "      <td>Slot 1</td>\n",
       "      <td>24: Shadow Cadence|Jazz|66</td>\n",
       "      <td>6: Aurora Skies|Pop|75</td>\n",
       "      <td>8: Crimson Harmony|Classical|20</td>\n",
       "      <td>34: Parallel Dimension|Electronic|58</td>\n",
       "      <td>23: Electric Serpents|Electronic|99</td>\n",
       "    </tr>\n",
       "    <tr>\n",
       "      <th>1</th>\n",
       "      <td>Slot 2</td>\n",
       "      <td>2: Velvet Pulse|Jazz|35</td>\n",
       "      <td>18: Velvet Underground|Rock|72</td>\n",
       "      <td>29: Harmonic Dissonance|Classical|96</td>\n",
       "      <td>10: The Wandering Notes|Jazz|84</td>\n",
       "      <td>30: Turbo Vortex|Rock|53</td>\n",
       "    </tr>\n",
       "    <tr>\n",
       "      <th>2</th>\n",
       "      <td>Slot 3</td>\n",
       "      <td>33: Cosmic Frequency|Rock|53</td>\n",
       "      <td>1: Solar Flare|Electronic|78</td>\n",
       "      <td>25: Rhythm Alchemy|Jazz|94</td>\n",
       "      <td>19: Astral Tide|Electronic|69</td>\n",
       "      <td>17: Nightfall Sonata|Classical|84</td>\n",
       "    </tr>\n",
       "    <tr>\n",
       "      <th>3</th>\n",
       "      <td>Slot 4</td>\n",
       "      <td>31: The Jazz Nomads|Jazz|64</td>\n",
       "      <td>12: Blue Horizon|Pop|51</td>\n",
       "      <td>16: Mystic Rhythms|Classical|78</td>\n",
       "      <td>26: Cloud Nine Collective|Pop|97</td>\n",
       "      <td>14: Synthwave Saints|Rock|94</td>\n",
       "    </tr>\n",
       "    <tr>\n",
       "      <th>4</th>\n",
       "      <td>Slot 5</td>\n",
       "      <td>15: Golden Ember|Rock|61</td>\n",
       "      <td>5: Echo Chamber|Electronic|98</td>\n",
       "      <td>32: The Bassline Architects|Hip-Hop|61</td>\n",
       "      <td>7: Static Mirage|Rock|94</td>\n",
       "      <td>3: Neon Reverie|Electronic|100</td>\n",
       "    </tr>\n",
       "    <tr>\n",
       "      <th>5</th>\n",
       "      <td>Slot 6</td>\n",
       "      <td>20: The Sonic Drifters|Rock|88</td>\n",
       "      <td>0: Midnight Echo|Rock|75</td>\n",
       "      <td>4: The Silver Owls|Classical|85</td>\n",
       "      <td>22: Quantum Beat|Hip-Hop|96</td>\n",
       "      <td>9: Deep Resonance|Jazz|90</td>\n",
       "    </tr>\n",
       "    <tr>\n",
       "      <th>6</th>\n",
       "      <td>Slot 7</td>\n",
       "      <td>27: Hypnotic Echoes|Rock|77</td>\n",
       "      <td>28: The Polyrhythm Syndicate|Jazz|66</td>\n",
       "      <td>13: Lunar Spectrum|Rock|99</td>\n",
       "      <td>11: Phantom Groove|Hip-Hop|47</td>\n",
       "      <td>21: Celestial Voyage|Electronic|95</td>\n",
       "    </tr>\n",
       "  </tbody>\n",
       "</table>\n",
       "</div>"
      ],
      "text/plain": [
       "     Slot                         Stage 1  \\\n",
       "0  Slot 1      24: Shadow Cadence|Jazz|66   \n",
       "1  Slot 2         2: Velvet Pulse|Jazz|35   \n",
       "2  Slot 3    33: Cosmic Frequency|Rock|53   \n",
       "3  Slot 4     31: The Jazz Nomads|Jazz|64   \n",
       "4  Slot 5        15: Golden Ember|Rock|61   \n",
       "5  Slot 6  20: The Sonic Drifters|Rock|88   \n",
       "6  Slot 7     27: Hypnotic Echoes|Rock|77   \n",
       "\n",
       "                                Stage 2  \\\n",
       "0                6: Aurora Skies|Pop|75   \n",
       "1        18: Velvet Underground|Rock|72   \n",
       "2          1: Solar Flare|Electronic|78   \n",
       "3               12: Blue Horizon|Pop|51   \n",
       "4         5: Echo Chamber|Electronic|98   \n",
       "5              0: Midnight Echo|Rock|75   \n",
       "6  28: The Polyrhythm Syndicate|Jazz|66   \n",
       "\n",
       "                                  Stage 3  \\\n",
       "0         8: Crimson Harmony|Classical|20   \n",
       "1    29: Harmonic Dissonance|Classical|96   \n",
       "2              25: Rhythm Alchemy|Jazz|94   \n",
       "3         16: Mystic Rhythms|Classical|78   \n",
       "4  32: The Bassline Architects|Hip-Hop|61   \n",
       "5         4: The Silver Owls|Classical|85   \n",
       "6              13: Lunar Spectrum|Rock|99   \n",
       "\n",
       "                                Stage 4                              Stage 5  \n",
       "0  34: Parallel Dimension|Electronic|58  23: Electric Serpents|Electronic|99  \n",
       "1       10: The Wandering Notes|Jazz|84             30: Turbo Vortex|Rock|53  \n",
       "2         19: Astral Tide|Electronic|69    17: Nightfall Sonata|Classical|84  \n",
       "3      26: Cloud Nine Collective|Pop|97         14: Synthwave Saints|Rock|94  \n",
       "4              7: Static Mirage|Rock|94       3: Neon Reverie|Electronic|100  \n",
       "5           22: Quantum Beat|Hip-Hop|96            9: Deep Resonance|Jazz|90  \n",
       "6         11: Phantom Groove|Hip-Hop|47   21: Celestial Voyage|Electronic|95  "
      ]
     },
     "execution_count": 42,
     "metadata": {},
     "output_type": "execute_result"
    }
   ],
   "source": [
    "visualize_musical_lineup(\"2406083423021829103033012519173112162614150532070320000422092728131121\", data.artists)"
   ]
  },
  {
   "cell_type": "code",
   "execution_count": 43,
   "id": "16e31f6d",
   "metadata": {},
   "outputs": [
    {
     "data": {
      "text/html": [
       "<div>\n",
       "<style scoped>\n",
       "    .dataframe tbody tr th:only-of-type {\n",
       "        vertical-align: middle;\n",
       "    }\n",
       "\n",
       "    .dataframe tbody tr th {\n",
       "        vertical-align: top;\n",
       "    }\n",
       "\n",
       "    .dataframe thead th {\n",
       "        text-align: right;\n",
       "    }\n",
       "</style>\n",
       "<table border=\"1\" class=\"dataframe\">\n",
       "  <thead>\n",
       "    <tr style=\"text-align: right;\">\n",
       "      <th></th>\n",
       "      <th>Slot</th>\n",
       "      <th>Stage 1</th>\n",
       "      <th>Stage 2</th>\n",
       "      <th>Stage 3</th>\n",
       "      <th>Stage 4</th>\n",
       "      <th>Stage 5</th>\n",
       "    </tr>\n",
       "  </thead>\n",
       "  <tbody>\n",
       "    <tr>\n",
       "      <th>0</th>\n",
       "      <td>Slot 1</td>\n",
       "      <td>34: Parallel Dimension|Electronic|58</td>\n",
       "      <td>2: Velvet Pulse|Jazz|35</td>\n",
       "      <td>1: Solar Flare|Electronic|78</td>\n",
       "      <td>23: Electric Serpents|Electronic|99</td>\n",
       "      <td>6: Aurora Skies|Pop|75</td>\n",
       "    </tr>\n",
       "    <tr>\n",
       "      <th>1</th>\n",
       "      <td>Slot 2</td>\n",
       "      <td>27: Hypnotic Echoes|Rock|77</td>\n",
       "      <td>33: Cosmic Frequency|Rock|53</td>\n",
       "      <td>15: Golden Ember|Rock|61</td>\n",
       "      <td>18: Velvet Underground|Rock|72</td>\n",
       "      <td>32: The Bassline Architects|Hip-Hop|61</td>\n",
       "    </tr>\n",
       "    <tr>\n",
       "      <th>2</th>\n",
       "      <td>Slot 3</td>\n",
       "      <td>14: Synthwave Saints|Rock|94</td>\n",
       "      <td>10: The Wandering Notes|Jazz|84</td>\n",
       "      <td>16: Mystic Rhythms|Classical|78</td>\n",
       "      <td>13: Lunar Spectrum|Rock|99</td>\n",
       "      <td>29: Harmonic Dissonance|Classical|96</td>\n",
       "    </tr>\n",
       "    <tr>\n",
       "      <th>3</th>\n",
       "      <td>Slot 4</td>\n",
       "      <td>19: Astral Tide|Electronic|69</td>\n",
       "      <td>5: Echo Chamber|Electronic|98</td>\n",
       "      <td>0: Midnight Echo|Rock|75</td>\n",
       "      <td>3: Neon Reverie|Electronic|100</td>\n",
       "      <td>25: Rhythm Alchemy|Jazz|94</td>\n",
       "    </tr>\n",
       "    <tr>\n",
       "      <th>4</th>\n",
       "      <td>Slot 5</td>\n",
       "      <td>26: Cloud Nine Collective|Pop|97</td>\n",
       "      <td>7: Static Mirage|Rock|94</td>\n",
       "      <td>31: The Jazz Nomads|Jazz|64</td>\n",
       "      <td>11: Phantom Groove|Hip-Hop|47</td>\n",
       "      <td>12: Blue Horizon|Pop|51</td>\n",
       "    </tr>\n",
       "    <tr>\n",
       "      <th>5</th>\n",
       "      <td>Slot 6</td>\n",
       "      <td>20: The Sonic Drifters|Rock|88</td>\n",
       "      <td>24: Shadow Cadence|Jazz|66</td>\n",
       "      <td>8: Crimson Harmony|Classical|20</td>\n",
       "      <td>17: Nightfall Sonata|Classical|84</td>\n",
       "      <td>30: Turbo Vortex|Rock|53</td>\n",
       "    </tr>\n",
       "    <tr>\n",
       "      <th>6</th>\n",
       "      <td>Slot 7</td>\n",
       "      <td>22: Quantum Beat|Hip-Hop|96</td>\n",
       "      <td>9: Deep Resonance|Jazz|90</td>\n",
       "      <td>28: The Polyrhythm Syndicate|Jazz|66</td>\n",
       "      <td>21: Celestial Voyage|Electronic|95</td>\n",
       "      <td>4: The Silver Owls|Classical|85</td>\n",
       "    </tr>\n",
       "  </tbody>\n",
       "</table>\n",
       "</div>"
      ],
      "text/plain": [
       "     Slot                               Stage 1  \\\n",
       "0  Slot 1  34: Parallel Dimension|Electronic|58   \n",
       "1  Slot 2           27: Hypnotic Echoes|Rock|77   \n",
       "2  Slot 3          14: Synthwave Saints|Rock|94   \n",
       "3  Slot 4         19: Astral Tide|Electronic|69   \n",
       "4  Slot 5      26: Cloud Nine Collective|Pop|97   \n",
       "5  Slot 6        20: The Sonic Drifters|Rock|88   \n",
       "6  Slot 7           22: Quantum Beat|Hip-Hop|96   \n",
       "\n",
       "                           Stage 2                               Stage 3  \\\n",
       "0          2: Velvet Pulse|Jazz|35          1: Solar Flare|Electronic|78   \n",
       "1     33: Cosmic Frequency|Rock|53              15: Golden Ember|Rock|61   \n",
       "2  10: The Wandering Notes|Jazz|84       16: Mystic Rhythms|Classical|78   \n",
       "3    5: Echo Chamber|Electronic|98              0: Midnight Echo|Rock|75   \n",
       "4         7: Static Mirage|Rock|94           31: The Jazz Nomads|Jazz|64   \n",
       "5       24: Shadow Cadence|Jazz|66       8: Crimson Harmony|Classical|20   \n",
       "6        9: Deep Resonance|Jazz|90  28: The Polyrhythm Syndicate|Jazz|66   \n",
       "\n",
       "                               Stage 4                                 Stage 5  \n",
       "0  23: Electric Serpents|Electronic|99                  6: Aurora Skies|Pop|75  \n",
       "1       18: Velvet Underground|Rock|72  32: The Bassline Architects|Hip-Hop|61  \n",
       "2           13: Lunar Spectrum|Rock|99    29: Harmonic Dissonance|Classical|96  \n",
       "3       3: Neon Reverie|Electronic|100              25: Rhythm Alchemy|Jazz|94  \n",
       "4        11: Phantom Groove|Hip-Hop|47                 12: Blue Horizon|Pop|51  \n",
       "5    17: Nightfall Sonata|Classical|84                30: Turbo Vortex|Rock|53  \n",
       "6   21: Celestial Voyage|Electronic|95         4: The Silver Owls|Classical|85  "
      ]
     },
     "execution_count": 43,
     "metadata": {},
     "output_type": "execute_result"
    }
   ],
   "source": [
    "visualize_musical_lineup(lineup.repr, data.artists)"
   ]
  },
  {
   "cell_type": "markdown",
   "id": "450d88dd",
   "metadata": {},
   "source": [
    "- Get artists of slot"
   ]
  },
  {
   "cell_type": "code",
   "execution_count": 44,
   "id": "b6f52dc3",
   "metadata": {},
   "outputs": [
    {
     "data": {
      "text/plain": [
       "[22, 9, 28, 21, 4]"
      ]
     },
     "execution_count": 44,
     "metadata": {},
     "output_type": "execute_result"
    }
   ],
   "source": [
    "lineup._get_slot_repr_list(slot=6)"
   ]
  },
  {
   "cell_type": "markdown",
   "id": "dff8542a",
   "metadata": {},
   "source": [
    "### 3. Defining fitness"
   ]
  },
  {
   "cell_type": "markdown",
   "id": "312fea55",
   "metadata": {},
   "source": [
    "\" The  quality  of  a  festival  lineup  is  determined  by  balancing  __`three  equally`__  important \n",
    "objectives** ,  each  contributing  to  an  overall  score.  Since  these  objectives  have  different \n",
    "scales,  ** they  must  be  normalized  to  the  same  range  (between  0  and  1)  to  ensure  they \n",
    "contribute equally to the final fitness score.\n",
    "<br>\n",
    " These are the objectives: \n",
    " \n",
    "__`Prime  Slot  Popularity`__  :  The  most  popular  artists  should  be  scheduled  in  the  prime \n",
    "slots  (**the  last  time  slot  on  each  stage**).  This  score  is  calculated  by  normalizing  the \n",
    "total  popularity  of  artists  in  prime  slots  against  the  maximum  possible  total  popularity \n",
    "(e.g. if only most popular artists - score 100 - were scheduled on the prime slot). \n",
    "\n",
    "__`Genre  Diversity`__  :  A  diverse  distribution  of  **genres  among  stages  in  each  time  slot**\n",
    "improves  the  festival  experience.  This  score  is  determined  by  normalizing  the \n",
    "number  of  unique  genres  in  each  slot  relative  to  the  maximum  possible  number  of \n",
    "unique  genres  (e.g.  if  only  different  genres  were  scheduled  in  that  time  slot)  .  Then \n",
    "you take the average among time slots. \n",
    "\n",
    "__`Conflict  Penalty`__  : ** Fan  conflicts  occur  when  artists  with  overlapping  audiences \n",
    "perform  at  the  same  time  on  different  stages**. \n",
    " This  score  is  calculated  by  normalizing \n",
    "the  total  conflict  value  in  each  slot  against  the  worst  possible  conflict  scenario  (e.g. \n",
    "where  all  artists  with  maximum  conflict  are  scheduled  together).  Then  you  take  the \n",
    "average  among  time  slots.  Since  conflicts  negatively  impact  the  lineup,  this  is  a \n",
    "penalization  score. \n",
    "\""
   ]
  },
  {
   "cell_type": "markdown",
   "id": "9a82c77d",
   "metadata": {},
   "source": []
  },
  {
   "cell_type": "markdown",
   "id": "e87fd65f",
   "metadata": {},
   "source": [
    "__`Prime  Slot  Popularity`__  "
   ]
  },
  {
   "cell_type": "markdown",
   "id": "e638e062",
   "metadata": {},
   "source": [
    "1.  Maximum  possible  total  popularity, having into account that There is 5 stages, so we eill be summing the 5(NUM STAGES) largest"
   ]
  },
  {
   "cell_type": "code",
   "execution_count": 45,
   "id": "cc3f2f12",
   "metadata": {},
   "outputs": [
    {
     "data": {
      "text/plain": [
       "493"
      ]
     },
     "execution_count": 45,
     "metadata": {},
     "output_type": "execute_result"
    }
   ],
   "source": [
    "data.max_popularity_in_prime_slot"
   ]
  },
  {
   "cell_type": "markdown",
   "id": "8e92900a",
   "metadata": {},
   "source": [
    "2. Total  popularity  of  artists: <br>\n",
    "For that, it was defined a function that receives artists Ids and returns the popularity for that specifics Ids. <br>\n",
    "Lets test it!\n",
    "\n"
   ]
  },
  {
   "cell_type": "code",
   "execution_count": 46,
   "id": "ea687d89",
   "metadata": {},
   "outputs": [
    {
     "data": {
      "text/plain": [
       "1031"
      ]
     },
     "execution_count": 46,
     "metadata": {},
     "output_type": "execute_result"
    }
   ],
   "source": [
    "#Summing popularity of all artists\n",
    "data.get_sum_popularity(list(range(14)))"
   ]
  },
  {
   "cell_type": "code",
   "execution_count": 47,
   "id": "5f8ff584",
   "metadata": {},
   "outputs": [
    {
     "data": {
      "text/plain": [
       "298"
      ]
     },
     "execution_count": 47,
     "metadata": {},
     "output_type": "execute_result"
    }
   ],
   "source": [
    "#Summing popularity of [1,2,3,4]\n",
    "data.get_sum_popularity([1,2,3,4])"
   ]
  },
  {
   "cell_type": "markdown",
   "id": "4312923d",
   "metadata": {},
   "source": [
    "3. Normalizing the popularity against the max number of popularity"
   ]
  },
  {
   "cell_type": "code",
   "execution_count": 48,
   "id": "b7179929",
   "metadata": {},
   "outputs": [
    {
     "data": {
      "text/plain": [
       "0.6044624746450304"
      ]
     },
     "execution_count": 48,
     "metadata": {},
     "output_type": "execute_result"
    }
   ],
   "source": [
    "lineup._get_popularity_normalized([1,2,3,4])"
   ]
  },
  {
   "cell_type": "markdown",
   "id": "20c22305",
   "metadata": {},
   "source": [
    "__`Genre  Diversity`__  : "
   ]
  },
  {
   "cell_type": "markdown",
   "id": "e734b5bc",
   "metadata": {},
   "source": [
    "1. Get maximum number of genres per slot, can not be greater than the total number of stages, which is 5"
   ]
  },
  {
   "cell_type": "code",
   "execution_count": 49,
   "id": "a4502f44",
   "metadata": {},
   "outputs": [
    {
     "data": {
      "text/plain": [
       "5"
      ]
     },
     "execution_count": 49,
     "metadata": {},
     "output_type": "execute_result"
    }
   ],
   "source": [
    "#Genre  Diversity\n",
    "data.max_distinct_genre_per_slot"
   ]
  },
  {
   "cell_type": "markdown",
   "id": "914bc80b",
   "metadata": {},
   "source": [
    "2. Number of distinct genres : <br>\n",
    "For that, it was defined a function that receives artists Ids and returns distinct genres in that list of specifics Ids. <br>\n",
    "Lets test it!\n"
   ]
  },
  {
   "cell_type": "code",
   "execution_count": 50,
   "id": "a8ac2f14",
   "metadata": {},
   "outputs": [
    {
     "data": {
      "text/plain": [
       "3"
      ]
     },
     "execution_count": 50,
     "metadata": {},
     "output_type": "execute_result"
    }
   ],
   "source": [
    "data.get_count_distinct_genres(artists_ids_list=[0,1,10,2])"
   ]
  },
  {
   "cell_type": "markdown",
   "id": "7481e095",
   "metadata": {},
   "source": [
    "3. Normalizing the genres against the max number of distinct genres"
   ]
  },
  {
   "cell_type": "code",
   "execution_count": 51,
   "id": "84fbbd5d",
   "metadata": {},
   "outputs": [
    {
     "data": {
      "text/plain": [
       "0.6"
      ]
     },
     "execution_count": 51,
     "metadata": {},
     "output_type": "execute_result"
    }
   ],
   "source": [
    "lineup._get_genre_diversity_normalized(artists_ids_list=[0,1,10])"
   ]
  },
  {
   "cell_type": "markdown",
   "id": "ef292444",
   "metadata": {},
   "source": [
    "__`Penalty Conflict`__  : "
   ]
  },
  {
   "cell_type": "markdown",
   "id": "d2d17311",
   "metadata": {},
   "source": [
    "1. Get maximum possible conflift, the  worst  possible  conflict  scenario, so for that we get the top K worst case scenerio. <br>\n",
    " What is K?\n",
    " Is the numbers os conflits in a slot, which is the combination of 5 elements when grouping in two so, we will have C5,2, tthat is equal to 10.\n",
    " So will will be choosing the top 10 worst conflits\n"
   ]
  },
  {
   "cell_type": "code",
   "execution_count": 52,
   "id": "a88e0fb1",
   "metadata": {},
   "outputs": [
    {
     "data": {
      "text/plain": [
       "np.float64(10.0)"
      ]
     },
     "execution_count": 52,
     "metadata": {},
     "output_type": "execute_result"
    }
   ],
   "source": [
    "data.max_worst_conflit_per_slot"
   ]
  },
  {
   "cell_type": "markdown",
   "id": "cde86f96",
   "metadata": {},
   "source": [
    "2. The  Total  conflict  value  in  each  slot : <br>\n",
    "For that, it was defined a function that receives artists Ids and sum of all conflicts in the list. <br>\n",
    "Lets test it!\n"
   ]
  },
  {
   "cell_type": "code",
   "execution_count": 53,
   "id": "a1815a84",
   "metadata": {},
   "outputs": [
    {
     "data": {
      "text/plain": [
       "np.float64(1.8)"
      ]
     },
     "execution_count": 53,
     "metadata": {},
     "output_type": "execute_result"
    }
   ],
   "source": [
    "data.get_sum_conflicts(artists_ids_list=[3,1,10])"
   ]
  },
  {
   "cell_type": "code",
   "execution_count": 54,
   "id": "c0ef320b",
   "metadata": {},
   "outputs": [
    {
     "data": {
      "text/plain": [
       "np.float64(5.75)"
      ]
     },
     "execution_count": 54,
     "metadata": {},
     "output_type": "execute_result"
    }
   ],
   "source": [
    "data.get_sum_conflicts(artists_ids_list=[32, 29, 25, 13, 30])"
   ]
  },
  {
   "cell_type": "code",
   "execution_count": 55,
   "id": "0fb8c90f",
   "metadata": {},
   "outputs": [
    {
     "data": {
      "text/plain": [
       "np.float64(0.9)"
      ]
     },
     "execution_count": 55,
     "metadata": {},
     "output_type": "execute_result"
    }
   ],
   "source": [
    "data.get_sum_conflicts(artists_ids_list=[2,10])"
   ]
  },
  {
   "cell_type": "markdown",
   "id": "53a0f298",
   "metadata": {},
   "source": [
    "3. Normalizing the conflicts against the worst conflit scenario"
   ]
  },
  {
   "cell_type": "code",
   "execution_count": 56,
   "id": "5055dd05",
   "metadata": {},
   "outputs": [
    {
     "data": {
      "text/plain": [
       "np.float64(0.18)"
      ]
     },
     "execution_count": 56,
     "metadata": {},
     "output_type": "execute_result"
    }
   ],
   "source": [
    "lineup._get_conflicts_normalized(artists_ids_list=[3,1,10])"
   ]
  },
  {
   "cell_type": "code",
   "execution_count": 57,
   "id": "4d98755e",
   "metadata": {},
   "outputs": [
    {
     "data": {
      "text/plain": [
       "np.float64(0.575)"
      ]
     },
     "execution_count": 57,
     "metadata": {},
     "output_type": "execute_result"
    }
   ],
   "source": [
    "lineup._get_conflicts_normalized(artists_ids_list=[32, 29, 25, 13, 30])"
   ]
  },
  {
   "cell_type": "markdown",
   "id": "c7cb40d4",
   "metadata": {},
   "source": []
  },
  {
   "cell_type": "markdown",
   "id": "9f9fb731",
   "metadata": {},
   "source": [
    "##### 3.2 Other important functions in the solution"
   ]
  },
  {
   "cell_type": "code",
   "execution_count": 58,
   "id": "1c47f9f9",
   "metadata": {},
   "outputs": [
    {
     "data": {
      "text/plain": [
       "[34,\n",
       " 2,\n",
       " 1,\n",
       " 23,\n",
       " 6,\n",
       " 27,\n",
       " 33,\n",
       " 15,\n",
       " 18,\n",
       " 32,\n",
       " 14,\n",
       " 10,\n",
       " 16,\n",
       " 13,\n",
       " 29,\n",
       " 19,\n",
       " 5,\n",
       " 0,\n",
       " 3,\n",
       " 25,\n",
       " 26,\n",
       " 7,\n",
       " 31,\n",
       " 11,\n",
       " 12,\n",
       " 20,\n",
       " 24,\n",
       " 8,\n",
       " 17,\n",
       " 30,\n",
       " 22,\n",
       " 9,\n",
       " 28,\n",
       " 21,\n",
       " 4]"
      ]
     },
     "execution_count": 58,
     "metadata": {},
     "output_type": "execute_result"
    }
   ],
   "source": [
    "lineup.repr"
   ]
  },
  {
   "cell_type": "markdown",
   "id": "6faf9b3a",
   "metadata": {},
   "source": [
    "- Get the list of artists Ids in a Slot, Slot is a parameter"
   ]
  },
  {
   "cell_type": "code",
   "execution_count": 59,
   "id": "72b8a478",
   "metadata": {},
   "outputs": [
    {
     "data": {
      "text/plain": [
       "[27, 33, 15, 18, 32]"
      ]
     },
     "execution_count": 59,
     "metadata": {},
     "output_type": "execute_result"
    }
   ],
   "source": [
    "lineup._get_slot_repr_list(1)"
   ]
  },
  {
   "cell_type": "code",
   "execution_count": 60,
   "id": "ff41c8c2",
   "metadata": {},
   "outputs": [
    {
     "data": {
      "text/plain": [
       "[34, 2, 1, 23, 6]"
      ]
     },
     "execution_count": 60,
     "metadata": {},
     "output_type": "execute_result"
    }
   ],
   "source": [
    "lineup._get_slot_repr_list(0)"
   ]
  },
  {
   "cell_type": "markdown",
   "id": "7fcb3fe5",
   "metadata": {},
   "source": [
    "##### 3.3 Fitness"
   ]
  },
  {
   "cell_type": "code",
   "execution_count": 61,
   "id": "dd3eed16",
   "metadata": {},
   "outputs": [
    {
     "name": "stdout",
     "output_type": "stream",
     "text": [
      "Slot of artists: [17, 1, 26, 16, 10]\n",
      "Slot 0: Conflitcs: 0.39499999999999996, genres: 0.8, sum_popularity: 0\n",
      "Slot 0: List of  Conflitcs: [np.float64(0.39499999999999996)], List of genres: [0.8], Popularity of the prime slot: 0\n",
      "Slot of artists: [24, 13, 3, 2, 6]\n",
      "Slot 1: Conflitcs: 0.4950000000000001, genres: 0.8, sum_popularity: 0\n",
      "Slot 1: List of  Conflitcs: [np.float64(0.39499999999999996), np.float64(0.4950000000000001)], List of genres: [0.8, 0.8], Popularity of the prime slot: 0\n",
      "Slot of artists: [29, 30, 28, 21, 11]\n",
      "Slot 2: Conflitcs: 0.35, genres: 1.0, sum_popularity: 0\n",
      "Slot 2: List of  Conflitcs: [np.float64(0.39499999999999996), np.float64(0.4950000000000001), np.float64(0.35)], List of genres: [0.8, 0.8, 1.0], Popularity of the prime slot: 0\n",
      "Slot of artists: [5, 15, 18, 12, 0]\n",
      "Slot 3: Conflitcs: 0.54, genres: 0.6, sum_popularity: 0\n",
      "Slot 3: List of  Conflitcs: [np.float64(0.39499999999999996), np.float64(0.4950000000000001), np.float64(0.35), np.float64(0.54)], List of genres: [0.8, 0.8, 1.0, 0.6], Popularity of the prime slot: 0\n",
      "Slot of artists: [9, 31, 8, 7, 22]\n",
      "Slot 4: Conflitcs: 0.55, genres: 0.8, sum_popularity: 0\n",
      "Slot 4: List of  Conflitcs: [np.float64(0.39499999999999996), np.float64(0.4950000000000001), np.float64(0.35), np.float64(0.54), np.float64(0.55)], List of genres: [0.8, 0.8, 1.0, 0.6, 0.8], Popularity of the prime slot: 0\n",
      "Slot of artists: [34, 32, 33, 20, 23]\n",
      "Slot 5: Conflitcs: 0.67, genres: 0.6, sum_popularity: 0\n",
      "Slot 5: List of  Conflitcs: [np.float64(0.39499999999999996), np.float64(0.4950000000000001), np.float64(0.35), np.float64(0.54), np.float64(0.55), np.float64(0.67)], List of genres: [0.8, 0.8, 1.0, 0.6, 0.8, 0.6], Popularity of the prime slot: 0\n",
      "Slot of artists: [4, 19, 25, 27, 14]\n",
      "Slot 6: Conflitcs: 0.61, genres: 0.8, sum_popularity: 0.8498985801217038\n",
      "Slot 6: List of  Conflitcs: [np.float64(0.39499999999999996), np.float64(0.4950000000000001), np.float64(0.35), np.float64(0.54), np.float64(0.55), np.float64(0.67), np.float64(0.61)], List of genres: [0.8, 0.8, 1.0, 0.6, 0.8, 0.6, 0.8], Popularity of the prime slot: 0.8498985801217038\n",
      "Average of conflits: 0.5157142857142857, Average of distinct genres 0.7714285714285715, and Popularity in prime slot: 0.8498985801217038\n",
      "Fitness: 1.1056128658359898\n"
     ]
    },
    {
     "data": {
      "text/plain": [
       "np.float64(1.1056128658359898)"
      ]
     },
     "execution_count": 61,
     "metadata": {},
     "output_type": "execute_result"
    }
   ],
   "source": [
    "#Random 1\n",
    "lineup=MusicalFestivalSolution(data=data)\n",
    "lineup.repr\n",
    "lineup.fitness(verbose=True)"
   ]
  },
  {
   "cell_type": "code",
   "execution_count": 62,
   "id": "0b7399e0",
   "metadata": {},
   "outputs": [
    {
     "name": "stdout",
     "output_type": "stream",
     "text": [
      "Slot of artists: [4, 27, 11, 29, 13]\n",
      "Slot 0: Conflitcs: 0.32999999999999996, genres: 0.6, sum_popularity: 0\n",
      "Slot 0: List of  Conflitcs: [np.float64(0.32999999999999996)], List of genres: [0.6], Popularity of the prime slot: 0\n",
      "Slot of artists: [16, 31, 14, 30, 9]\n",
      "Slot 1: Conflitcs: 0.465, genres: 0.6, sum_popularity: 0\n",
      "Slot 1: List of  Conflitcs: [np.float64(0.32999999999999996), np.float64(0.465)], List of genres: [0.6, 0.6], Popularity of the prime slot: 0\n",
      "Slot of artists: [5, 7, 25, 19, 23]\n",
      "Slot 2: Conflitcs: 0.6450000000000001, genres: 0.6, sum_popularity: 0\n",
      "Slot 2: List of  Conflitcs: [np.float64(0.32999999999999996), np.float64(0.465), np.float64(0.6450000000000001)], List of genres: [0.6, 0.6, 0.6], Popularity of the prime slot: 0\n",
      "Slot of artists: [22, 18, 1, 3, 32]\n",
      "Slot 3: Conflitcs: 0.43, genres: 0.6, sum_popularity: 0\n",
      "Slot 3: List of  Conflitcs: [np.float64(0.32999999999999996), np.float64(0.465), np.float64(0.6450000000000001), np.float64(0.43)], List of genres: [0.6, 0.6, 0.6, 0.6], Popularity of the prime slot: 0\n",
      "Slot of artists: [28, 10, 6, 33, 2]\n",
      "Slot 4: Conflitcs: 0.52, genres: 0.6, sum_popularity: 0\n",
      "Slot 4: List of  Conflitcs: [np.float64(0.32999999999999996), np.float64(0.465), np.float64(0.6450000000000001), np.float64(0.43), np.float64(0.52)], List of genres: [0.6, 0.6, 0.6, 0.6, 0.6], Popularity of the prime slot: 0\n",
      "Slot of artists: [17, 12, 24, 8, 26]\n",
      "Slot 5: Conflitcs: 0.445, genres: 0.6, sum_popularity: 0\n",
      "Slot 5: List of  Conflitcs: [np.float64(0.32999999999999996), np.float64(0.465), np.float64(0.6450000000000001), np.float64(0.43), np.float64(0.52), np.float64(0.445)], List of genres: [0.6, 0.6, 0.6, 0.6, 0.6, 0.6], Popularity of the prime slot: 0\n",
      "Slot of artists: [20, 0, 34, 21, 15]\n",
      "Slot 6: Conflitcs: 0.48, genres: 0.4, sum_popularity: 0.7647058823529411\n",
      "Slot 6: List of  Conflitcs: [np.float64(0.32999999999999996), np.float64(0.465), np.float64(0.6450000000000001), np.float64(0.43), np.float64(0.52), np.float64(0.445), np.float64(0.48)], List of genres: [0.6, 0.6, 0.6, 0.6, 0.6, 0.6, 0.4], Popularity of the prime slot: 0.7647058823529411\n",
      "Average of conflits: 0.4735714285714285, Average of distinct genres 0.5714285714285714, and Popularity in prime slot: 0.7647058823529411\n",
      "Fitness: 0.862563025210084\n"
     ]
    },
    {
     "data": {
      "text/plain": [
       "np.float64(0.862563025210084)"
      ]
     },
     "execution_count": 62,
     "metadata": {},
     "output_type": "execute_result"
    }
   ],
   "source": [
    "#Random 2\n",
    "lineup=MusicalFestivalSolution(data=data)\n",
    "lineup.repr\n",
    "lineup.fitness(verbose=True)"
   ]
  },
  {
   "cell_type": "code",
   "execution_count": 63,
   "id": "4d90c1f0",
   "metadata": {},
   "outputs": [
    {
     "name": "stdout",
     "output_type": "stream",
     "text": [
      "Slot of artists: [12, 17, 29, 21, 9]\n",
      "Slot 0: Conflitcs: 0.395, genres: 0.8, sum_popularity: 0\n",
      "Slot 0: List of  Conflitcs: [np.float64(0.395)], List of genres: [0.8], Popularity of the prime slot: 0\n",
      "Slot of artists: [16, 19, 15, 30, 32]\n",
      "Slot 1: Conflitcs: 0.295, genres: 0.8, sum_popularity: 0\n",
      "Slot 1: List of  Conflitcs: [np.float64(0.395), np.float64(0.295)], List of genres: [0.8, 0.8], Popularity of the prime slot: 0\n",
      "Slot of artists: [28, 11, 10, 24, 18]\n",
      "Slot 2: Conflitcs: 0.515, genres: 0.6, sum_popularity: 0\n",
      "Slot 2: List of  Conflitcs: [np.float64(0.395), np.float64(0.295), np.float64(0.515)], List of genres: [0.8, 0.8, 0.6], Popularity of the prime slot: 0\n",
      "Slot of artists: [2, 20, 26, 14, 34]\n",
      "Slot 3: Conflitcs: 0.615, genres: 0.8, sum_popularity: 0\n",
      "Slot 3: List of  Conflitcs: [np.float64(0.395), np.float64(0.295), np.float64(0.515), np.float64(0.615)], List of genres: [0.8, 0.8, 0.6, 0.8], Popularity of the prime slot: 0\n",
      "Slot of artists: [6, 27, 22, 31, 25]\n",
      "Slot 4: Conflitcs: 0.485, genres: 0.8, sum_popularity: 0\n",
      "Slot 4: List of  Conflitcs: [np.float64(0.395), np.float64(0.295), np.float64(0.515), np.float64(0.615), np.float64(0.485)], List of genres: [0.8, 0.8, 0.6, 0.8, 0.8], Popularity of the prime slot: 0\n",
      "Slot of artists: [4, 0, 5, 1, 13]\n",
      "Slot 5: Conflitcs: 0.4600000000000001, genres: 0.6, sum_popularity: 0\n",
      "Slot 5: List of  Conflitcs: [np.float64(0.395), np.float64(0.295), np.float64(0.515), np.float64(0.615), np.float64(0.485), np.float64(0.4600000000000001)], List of genres: [0.8, 0.8, 0.6, 0.8, 0.8, 0.6], Popularity of the prime slot: 0\n",
      "Slot of artists: [23, 33, 7, 8, 3]\n",
      "Slot 6: Conflitcs: 0.57, genres: 0.6, sum_popularity: 0.742393509127789\n",
      "Slot 6: List of  Conflitcs: [np.float64(0.395), np.float64(0.295), np.float64(0.515), np.float64(0.615), np.float64(0.485), np.float64(0.4600000000000001), np.float64(0.57)], List of genres: [0.8, 0.8, 0.6, 0.8, 0.8, 0.6, 0.6], Popularity of the prime slot: 0.742393509127789\n",
      "Average of conflits: 0.4764285714285714, Average of distinct genres 0.7142857142857143, and Popularity in prime slot: 0.742393509127789\n",
      "Fitness: 0.9802506519849319\n"
     ]
    },
    {
     "data": {
      "text/plain": [
       "np.float64(0.9802506519849319)"
      ]
     },
     "execution_count": 63,
     "metadata": {},
     "output_type": "execute_result"
    }
   ],
   "source": [
    "#Random 3\n",
    "lineup=MusicalFestivalSolution(data=data)\n",
    "lineup.repr\n",
    "lineup.fitness(verbose=True)"
   ]
  },
  {
   "cell_type": "markdown",
   "id": "bdfb5d7c",
   "metadata": {},
   "source": [
    "### Hill-Climbing"
   ]
  },
  {
   "cell_type": "code",
   "execution_count": 64,
   "id": "0ab4c8db",
   "metadata": {},
   "outputs": [],
   "source": [
    "from library.algorithms.hill_climbing import hill_climbing\n",
    "from musical_festival_lineup.musical_festival_lineup_hill_climbing import MusicalFestivalHillClimbingSolution"
   ]
  },
  {
   "cell_type": "code",
   "execution_count": 65,
   "id": "5add46d9",
   "metadata": {},
   "outputs": [],
   "source": [
    "lineup=MusicalFestivalHillClimbingSolution(data=data)"
   ]
  },
  {
   "cell_type": "code",
   "execution_count": 66,
   "id": "cec18455",
   "metadata": {},
   "outputs": [
    {
     "name": "stdout",
     "output_type": "stream",
     "text": [
      "Current solution: [8, 22, 2, 0, 6, 10, 13, 11, 16, 17, 26, 25, 20, 15, 21, 12, 30, 27, 1, 7, 33, 34, 9, 3, 23, 28, 14, 18, 19, 31, 32, 4, 24, 5, 29] with fitness 1.0249579831932771\n",
      "Neighbor: [8, 22, 2, 0, 6, 10, 13, 11, 16, 17, 26, 25, 20, 15, 21, 23, 30, 27, 1, 7, 33, 34, 9, 3, 12, 28, 14, 18, 19, 31, 32, 4, 24, 5, 29] with fitness 1.0363865546218487\n",
      "Neighbor: [8, 22, 2, 0, 6, 10, 13, 11, 32, 17, 26, 25, 20, 15, 21, 12, 30, 27, 1, 7, 33, 34, 9, 3, 23, 28, 14, 18, 19, 31, 16, 4, 24, 5, 29] with fitness 1.0237264560996813\n",
      "Neighbor: [14, 22, 2, 0, 6, 10, 13, 11, 16, 17, 26, 25, 20, 15, 21, 12, 30, 27, 1, 7, 33, 34, 9, 3, 23, 28, 8, 18, 19, 31, 32, 4, 24, 5, 29] with fitness 1.0542436974789915\n",
      "Neighbor: [8, 11, 2, 0, 6, 10, 13, 22, 16, 17, 26, 25, 20, 15, 21, 12, 30, 27, 1, 7, 33, 34, 9, 3, 23, 28, 14, 18, 19, 31, 32, 4, 24, 5, 29] with fitness 1.0399579831932773\n",
      "Neighbor: [11, 22, 2, 0, 6, 10, 13, 8, 16, 17, 26, 25, 20, 15, 21, 12, 30, 27, 1, 7, 33, 34, 9, 3, 23, 28, 14, 18, 19, 31, 32, 4, 24, 5, 29] with fitness 0.9599579831932773\n",
      "Neighbor: [8, 22, 2, 0, 6, 10, 13, 11, 16, 17, 26, 25, 20, 15, 29, 12, 30, 27, 1, 7, 33, 34, 9, 3, 23, 28, 14, 18, 19, 31, 32, 4, 24, 5, 21] with fitness 1.0172152999130688\n",
      "Neighbor: [8, 22, 29, 0, 6, 10, 13, 11, 16, 17, 26, 25, 20, 15, 21, 12, 30, 27, 1, 7, 33, 34, 9, 3, 23, 28, 14, 18, 19, 31, 32, 4, 24, 5, 2] with fitness 0.8769400173862648\n",
      "Neighbor: [8, 22, 2, 0, 6, 10, 13, 11, 16, 17, 26, 25, 9, 15, 21, 12, 30, 27, 1, 7, 33, 34, 20, 3, 23, 28, 14, 18, 19, 31, 32, 4, 24, 5, 29] with fitness 0.9963865546218486\n",
      "Neighbor: [8, 22, 2, 0, 6, 10, 13, 11, 16, 18, 26, 25, 20, 15, 21, 12, 30, 27, 1, 7, 33, 34, 9, 3, 23, 28, 14, 17, 19, 31, 32, 4, 24, 5, 29] with fitness 1.0492436974789916\n",
      "Neighbor: [8, 22, 2, 0, 6, 10, 13, 11, 16, 17, 26, 25, 20, 15, 21, 12, 30, 27, 1, 9, 33, 34, 7, 3, 23, 28, 14, 18, 19, 31, 32, 4, 24, 5, 29] with fitness 1.0292436974789916\n",
      "Current solution: [14, 22, 2, 0, 6, 10, 13, 11, 16, 17, 26, 25, 20, 15, 21, 12, 30, 27, 1, 7, 33, 34, 9, 3, 23, 28, 8, 18, 19, 31, 32, 4, 24, 5, 29] with fitness 1.0542436974789915\n",
      "Neighbor: [14, 22, 2, 0, 6, 10, 13, 11, 16, 17, 29, 25, 20, 15, 21, 12, 30, 27, 1, 7, 33, 34, 9, 3, 23, 28, 8, 18, 19, 31, 32, 4, 24, 5, 26] with fitness 1.1219863807592003\n",
      "Neighbor: [14, 22, 2, 0, 6, 10, 13, 11, 16, 17, 26, 25, 20, 15, 29, 12, 30, 27, 1, 7, 33, 34, 9, 3, 23, 28, 8, 18, 19, 31, 32, 4, 24, 5, 21] with fitness 1.046501014198783\n",
      "Neighbor: [29, 22, 2, 0, 6, 10, 13, 11, 16, 17, 26, 25, 20, 15, 21, 12, 30, 27, 1, 7, 33, 34, 9, 3, 23, 28, 8, 18, 19, 31, 32, 4, 24, 5, 14] with fitness 1.0823297594900025\n",
      "Neighbor: [14, 22, 2, 0, 6, 10, 13, 11, 16, 17, 26, 25, 21, 15, 20, 12, 30, 27, 1, 7, 33, 34, 9, 3, 23, 28, 8, 18, 19, 31, 32, 4, 24, 5, 29] with fitness 1.0542436974789915\n",
      "Neighbor: [14, 22, 2, 0, 6, 10, 11, 13, 16, 17, 26, 25, 20, 15, 21, 12, 30, 27, 1, 7, 33, 34, 9, 3, 23, 28, 8, 18, 19, 31, 32, 4, 24, 5, 29] with fitness 1.0542436974789915\n",
      "Neighbor: [14, 22, 2, 0, 6, 10, 13, 11, 16, 17, 26, 25, 20, 15, 21, 12, 30, 27, 1, 7, 33, 34, 9, 3, 24, 28, 8, 18, 19, 31, 32, 4, 23, 5, 29] with fitness 1.0918951028687336\n",
      "Neighbor: [14, 13, 2, 0, 6, 10, 22, 11, 16, 17, 26, 25, 20, 15, 21, 12, 30, 27, 1, 7, 33, 34, 9, 3, 23, 28, 8, 18, 19, 31, 32, 4, 24, 5, 29] with fitness 0.9606722689075629\n",
      "Neighbor: [14, 22, 2, 0, 6, 10, 13, 11, 16, 17, 26, 25, 4, 15, 21, 12, 30, 27, 1, 7, 33, 34, 9, 3, 23, 28, 8, 18, 19, 31, 32, 20, 24, 5, 29] with fitness 1.143186033033903\n",
      "Neighbor: [14, 22, 2, 0, 6, 10, 13, 11, 16, 17, 26, 25, 20, 15, 21, 12, 30, 27, 9, 7, 33, 34, 1, 3, 23, 28, 8, 18, 19, 31, 32, 4, 24, 5, 29] with fitness 1.0171008403361341\n",
      "Neighbor: [14, 22, 2, 0, 6, 10, 13, 11, 16, 17, 26, 25, 20, 15, 21, 12, 4, 27, 1, 7, 33, 34, 9, 3, 23, 28, 8, 18, 19, 31, 32, 30, 24, 5, 29] with fitness 1.0657635467980295\n",
      "Current solution: [14, 22, 2, 0, 6, 10, 13, 11, 16, 17, 26, 25, 4, 15, 21, 12, 30, 27, 1, 7, 33, 34, 9, 3, 23, 28, 8, 18, 19, 31, 32, 20, 24, 5, 29] with fitness 1.143186033033903\n",
      "Neighbor: [14, 22, 2, 0, 6, 30, 13, 11, 16, 17, 26, 25, 4, 15, 21, 12, 10, 27, 1, 7, 33, 34, 9, 3, 23, 28, 8, 18, 19, 31, 32, 20, 24, 5, 29] with fitness 1.1539003187481887\n",
      "Neighbor: [14, 22, 2, 0, 6, 10, 13, 11, 16, 17, 26, 25, 4, 15, 21, 12, 30, 27, 1, 7, 31, 34, 9, 3, 23, 28, 8, 18, 19, 33, 32, 20, 24, 5, 29] with fitness 1.1067574616053317\n",
      "Neighbor: [14, 22, 2, 0, 6, 10, 13, 11, 16, 17, 26, 25, 4, 15, 21, 12, 30, 27, 1, 7, 33, 34, 9, 3, 23, 28, 5, 18, 19, 31, 32, 20, 24, 8, 29] with fitness 0.9021138800347724\n",
      "Neighbor: [14, 22, 2, 5, 6, 10, 13, 11, 16, 17, 26, 25, 4, 15, 21, 12, 30, 27, 1, 7, 33, 34, 9, 3, 23, 28, 8, 18, 19, 31, 32, 20, 24, 0, 29] with fitness 1.0915328890176759\n",
      "Neighbor: [14, 22, 2, 0, 6, 10, 28, 11, 16, 17, 26, 25, 4, 15, 21, 12, 30, 27, 1, 7, 33, 34, 9, 3, 23, 13, 8, 18, 19, 31, 32, 20, 24, 5, 29] with fitness 1.0896146044624744\n",
      "Neighbor: [14, 22, 2, 0, 6, 10, 13, 11, 16, 17, 26, 25, 4, 15, 21, 12, 30, 27, 1, 7, 33, 34, 9, 3, 23, 28, 8, 5, 19, 31, 32, 20, 24, 18, 29] with fitness 1.0104476963199072\n",
      "Neighbor: [24, 22, 2, 0, 6, 10, 13, 11, 16, 17, 26, 25, 4, 15, 21, 12, 30, 27, 1, 7, 33, 34, 9, 3, 23, 28, 8, 18, 19, 31, 32, 20, 14, 5, 29] with fitness 1.1278383077368879\n",
      "Neighbor: [14, 22, 2, 0, 6, 10, 13, 11, 16, 17, 26, 25, 30, 15, 21, 12, 4, 27, 1, 7, 33, 34, 9, 3, 23, 28, 8, 18, 19, 31, 32, 20, 24, 5, 29] with fitness 1.1517574616053317\n",
      "Neighbor: [14, 22, 2, 0, 6, 10, 13, 11, 16, 17, 26, 25, 4, 15, 21, 12, 30, 27, 1, 7, 33, 34, 9, 3, 23, 28, 8, 24, 19, 31, 32, 20, 18, 5, 29] with fitness 1.0732135612865834\n",
      "Neighbor: [14, 22, 2, 0, 6, 10, 13, 11, 16, 17, 26, 25, 4, 7, 21, 12, 30, 27, 1, 15, 33, 34, 9, 3, 23, 28, 8, 18, 19, 31, 32, 20, 24, 5, 29] with fitness 1.1517574616053314\n",
      "Current solution: [14, 22, 2, 0, 6, 30, 13, 11, 16, 17, 26, 25, 4, 15, 21, 12, 10, 27, 1, 7, 33, 34, 9, 3, 23, 28, 8, 18, 19, 31, 32, 20, 24, 5, 29] with fitness 1.1539003187481887\n",
      "Neighbor: [14, 22, 2, 0, 6, 30, 13, 11, 16, 17, 26, 25, 4, 15, 10, 12, 21, 27, 1, 7, 33, 34, 9, 3, 23, 28, 8, 18, 19, 31, 32, 20, 24, 5, 29] with fitness 1.0674717473196176\n",
      "Neighbor: [28, 22, 2, 0, 6, 30, 13, 11, 16, 17, 26, 25, 4, 15, 21, 12, 10, 27, 1, 7, 33, 34, 9, 3, 23, 14, 8, 18, 19, 31, 32, 20, 24, 5, 29] with fitness 1.13032889017676\n",
      "Neighbor: [14, 22, 2, 16, 6, 30, 13, 11, 0, 17, 26, 25, 4, 15, 21, 12, 10, 27, 1, 7, 33, 34, 9, 3, 23, 28, 8, 18, 19, 31, 32, 20, 24, 5, 29] with fitness 1.1881860330339031\n",
      "Neighbor: [14, 2, 22, 0, 6, 30, 13, 11, 16, 17, 26, 25, 4, 15, 21, 12, 10, 27, 1, 7, 33, 34, 9, 3, 23, 28, 8, 18, 19, 31, 32, 20, 24, 5, 29] with fitness 1.1539003187481887\n",
      "Neighbor: [14, 22, 2, 0, 6, 30, 13, 11, 16, 17, 26, 25, 4, 15, 33, 12, 10, 27, 1, 7, 21, 34, 9, 3, 23, 28, 8, 18, 19, 31, 32, 20, 24, 5, 29] with fitness 1.0446146044624744\n",
      "Neighbor: [14, 22, 17, 0, 6, 30, 13, 11, 16, 2, 26, 25, 4, 15, 21, 12, 10, 27, 1, 7, 33, 34, 9, 3, 23, 28, 8, 18, 19, 31, 32, 20, 24, 5, 29] with fitness 1.1917574616053317\n",
      "Neighbor: [14, 22, 2, 0, 6, 30, 13, 11, 16, 17, 26, 25, 4, 15, 21, 12, 10, 27, 1, 7, 33, 34, 9, 24, 23, 28, 8, 18, 19, 31, 32, 20, 3, 5, 29] with fitness 1.193580121703854\n",
      "Neighbor: [14, 22, 2, 0, 6, 30, 13, 11, 16, 17, 26, 25, 4, 28, 21, 12, 10, 27, 1, 7, 33, 34, 9, 3, 23, 15, 8, 18, 19, 31, 32, 20, 24, 5, 29] with fitness 1.1524717473196175\n",
      "Neighbor: [14, 22, 2, 0, 6, 30, 13, 11, 16, 18, 26, 25, 4, 15, 21, 12, 10, 27, 1, 7, 33, 34, 9, 3, 23, 28, 8, 17, 19, 31, 32, 20, 24, 5, 29] with fitness 1.0831860330339032\n",
      "Neighbor: [14, 22, 2, 0, 6, 30, 13, 11, 16, 17, 26, 25, 4, 15, 21, 12, 10, 27, 24, 7, 33, 34, 9, 3, 23, 28, 8, 18, 19, 31, 32, 20, 1, 5, 29] with fitness 1.1082410895392638\n",
      "Current solution: [14, 22, 2, 0, 6, 30, 13, 11, 16, 17, 26, 25, 4, 15, 21, 12, 10, 27, 1, 7, 33, 34, 9, 24, 23, 28, 8, 18, 19, 31, 32, 20, 3, 5, 29] with fitness 1.193580121703854\n",
      "Neighbor: [14, 22, 2, 0, 6, 30, 13, 11, 16, 17, 26, 25, 4, 15, 21, 12, 10, 27, 1, 7, 33, 34, 3, 24, 23, 28, 8, 18, 19, 31, 32, 20, 9, 5, 29] with fitness 1.1990104317589103\n",
      "Neighbor: [14, 22, 2, 0, 6, 30, 13, 11, 16, 17, 26, 25, 4, 15, 21, 7, 10, 27, 1, 12, 33, 34, 9, 24, 23, 28, 8, 18, 19, 31, 32, 20, 3, 5, 29] with fitness 1.193580121703854\n",
      "Neighbor: [14, 22, 2, 0, 6, 30, 13, 11, 16, 26, 17, 25, 4, 15, 21, 12, 10, 27, 1, 7, 33, 34, 9, 24, 23, 28, 8, 18, 19, 31, 32, 20, 3, 5, 29] with fitness 1.170722978846711\n",
      "Neighbor: [14, 22, 2, 0, 6, 30, 10, 11, 16, 17, 26, 25, 4, 15, 21, 12, 13, 27, 1, 7, 33, 34, 9, 24, 23, 28, 8, 18, 19, 31, 32, 20, 3, 5, 29] with fitness 1.180722978846711\n",
      "Neighbor: [30, 22, 2, 0, 6, 14, 13, 11, 16, 17, 26, 25, 4, 15, 21, 12, 10, 27, 1, 7, 33, 34, 9, 24, 23, 28, 8, 18, 19, 31, 32, 20, 3, 5, 29] with fitness 1.1842944074181396\n",
      "Neighbor: [14, 22, 2, 0, 6, 30, 13, 11, 16, 17, 26, 25, 4, 32, 21, 12, 10, 27, 1, 7, 33, 34, 9, 24, 23, 28, 8, 18, 19, 31, 15, 20, 3, 5, 29] with fitness 1.1642944074181396\n",
      "Neighbor: [14, 22, 2, 0, 6, 30, 1, 11, 16, 17, 26, 25, 4, 15, 21, 12, 10, 27, 13, 7, 33, 34, 9, 24, 23, 28, 8, 18, 19, 31, 32, 20, 3, 5, 29] with fitness 1.2014372645609968\n",
      "Neighbor: [14, 22, 2, 0, 6, 30, 13, 11, 16, 28, 26, 25, 4, 15, 21, 12, 10, 27, 1, 7, 33, 34, 9, 24, 23, 17, 8, 18, 19, 31, 32, 20, 3, 5, 29] with fitness 1.2242944074181397\n",
      "Neighbor: [14, 22, 2, 0, 17, 30, 13, 11, 16, 6, 26, 25, 4, 15, 21, 12, 10, 27, 1, 7, 33, 34, 9, 24, 23, 28, 8, 18, 19, 31, 32, 20, 3, 5, 29] with fitness 1.2185801217038539\n",
      "Neighbor: [14, 22, 2, 0, 6, 30, 13, 11, 16, 17, 26, 25, 4, 15, 21, 12, 10, 27, 1, 7, 33, 34, 9, 24, 23, 8, 28, 18, 19, 31, 32, 20, 3, 5, 29] with fitness 1.193580121703854\n",
      "Current solution: [14, 22, 2, 0, 6, 30, 13, 11, 16, 28, 26, 25, 4, 15, 21, 12, 10, 27, 1, 7, 33, 34, 9, 24, 23, 17, 8, 18, 19, 31, 32, 20, 3, 5, 29] with fitness 1.2242944074181397\n",
      "Neighbor: [14, 22, 2, 0, 6, 30, 13, 11, 16, 28, 26, 25, 4, 15, 3, 12, 10, 27, 1, 7, 33, 34, 9, 24, 23, 17, 8, 18, 19, 31, 32, 20, 21, 5, 29] with fitness 1.212009562445668\n",
      "Neighbor: [14, 22, 2, 0, 6, 30, 13, 11, 16, 19, 26, 25, 4, 15, 21, 12, 10, 27, 1, 7, 33, 34, 9, 24, 23, 17, 8, 18, 28, 31, 32, 20, 3, 5, 29] with fitness 1.160722978846711\n",
      "Neighbor: [14, 17, 2, 0, 6, 30, 13, 11, 16, 28, 26, 25, 4, 15, 21, 12, 10, 27, 1, 7, 33, 34, 9, 24, 23, 22, 8, 18, 19, 31, 32, 20, 3, 5, 29] with fitness 1.2650086931324251\n",
      "Neighbor: [14, 22, 2, 0, 6, 30, 13, 11, 16, 28, 26, 25, 4, 15, 21, 12, 20, 27, 1, 7, 33, 34, 9, 24, 23, 17, 8, 18, 19, 31, 32, 10, 3, 5, 29] with fitness 1.1740379600115909\n",
      "Neighbor: [14, 22, 2, 0, 6, 30, 13, 11, 16, 28, 26, 25, 4, 15, 21, 12, 10, 27, 1, 7, 5, 34, 9, 24, 23, 17, 8, 18, 19, 31, 32, 20, 3, 33, 29] with fitness 1.0844450883801797\n",
      "Neighbor: [14, 22, 2, 0, 6, 30, 13, 11, 16, 28, 26, 25, 4, 15, 21, 12, 10, 5, 1, 7, 33, 34, 9, 24, 23, 17, 8, 18, 19, 31, 32, 20, 3, 27, 29] with fitness 1.1974123442480442\n",
      "Neighbor: [14, 22, 2, 0, 6, 30, 13, 11, 16, 28, 26, 25, 4, 15, 21, 12, 1, 27, 10, 7, 33, 34, 9, 24, 23, 17, 8, 18, 19, 31, 32, 20, 3, 5, 29] with fitness 1.2242944074181397\n",
      "Neighbor: [14, 22, 2, 29, 6, 30, 13, 11, 16, 28, 26, 25, 4, 15, 21, 12, 10, 27, 1, 7, 33, 34, 9, 24, 23, 17, 8, 18, 19, 31, 32, 20, 3, 5, 0] with fitness 1.1859837728194724\n",
      "Neighbor: [33, 22, 2, 0, 6, 30, 13, 11, 16, 28, 26, 25, 4, 15, 21, 12, 10, 27, 1, 7, 14, 34, 9, 24, 23, 17, 8, 18, 19, 31, 32, 20, 3, 5, 29] with fitness 1.2050086931324253\n",
      "Neighbor: [14, 22, 2, 0, 6, 30, 13, 11, 24, 28, 26, 25, 4, 15, 21, 12, 10, 27, 1, 7, 33, 34, 9, 16, 23, 17, 8, 18, 19, 31, 32, 20, 3, 5, 29] with fitness 1.233580121703854\n",
      "Current solution: [14, 17, 2, 0, 6, 30, 13, 11, 16, 28, 26, 25, 4, 15, 21, 12, 10, 27, 1, 7, 33, 34, 9, 24, 23, 22, 8, 18, 19, 31, 32, 20, 3, 5, 29] with fitness 1.2650086931324251\n",
      "Neighbor: [14, 17, 2, 0, 6, 30, 9, 11, 16, 28, 26, 25, 4, 15, 21, 12, 10, 27, 1, 7, 33, 34, 13, 24, 23, 22, 8, 18, 19, 31, 32, 20, 3, 5, 29] with fitness 1.2464372645609965\n",
      "Neighbor: [14, 17, 2, 0, 6, 30, 13, 11, 16, 28, 8, 25, 4, 15, 21, 12, 10, 27, 1, 7, 33, 34, 9, 24, 23, 22, 26, 18, 19, 31, 32, 20, 3, 5, 29] with fitness 1.2435801217038538\n",
      "Neighbor: [14, 17, 2, 0, 6, 30, 13, 28, 16, 11, 26, 25, 4, 15, 21, 12, 10, 27, 1, 7, 33, 34, 9, 24, 23, 22, 8, 18, 19, 31, 32, 20, 3, 5, 29] with fitness 1.2650086931324251\n",
      "Neighbor: [14, 17, 2, 0, 6, 30, 13, 8, 16, 28, 26, 25, 4, 15, 21, 12, 10, 27, 1, 7, 33, 34, 9, 24, 23, 22, 11, 18, 19, 31, 32, 20, 3, 5, 29] with fitness 1.210722978846711\n",
      "Neighbor: [14, 17, 2, 0, 6, 30, 13, 11, 16, 19, 26, 25, 4, 15, 21, 12, 10, 27, 1, 7, 33, 34, 9, 24, 23, 22, 8, 18, 28, 31, 32, 20, 3, 5, 29] with fitness 1.2035801217038538\n",
      "Neighbor: [14, 17, 2, 0, 6, 30, 13, 11, 32, 28, 26, 25, 4, 15, 21, 12, 10, 27, 1, 7, 33, 34, 9, 24, 23, 22, 8, 18, 19, 31, 16, 20, 3, 5, 29] with fitness 1.2244914517531151\n",
      "Neighbor: [14, 15, 2, 0, 6, 30, 13, 11, 16, 28, 26, 25, 4, 17, 21, 12, 10, 27, 1, 7, 33, 34, 9, 24, 23, 22, 8, 18, 19, 31, 32, 20, 3, 5, 29] with fitness 1.1828658359895683\n",
      "Neighbor: [14, 17, 2, 0, 6, 30, 13, 21, 16, 28, 26, 25, 4, 15, 11, 12, 10, 27, 1, 7, 33, 34, 9, 24, 23, 22, 8, 18, 19, 31, 32, 20, 3, 5, 29] with fitness 1.290008693132425\n",
      "Neighbor: [14, 17, 2, 0, 6, 30, 13, 11, 16, 28, 26, 33, 4, 15, 21, 12, 10, 27, 1, 7, 25, 34, 9, 24, 23, 22, 8, 18, 19, 31, 32, 20, 3, 5, 29] with fitness 1.2021515502752824\n",
      "Neighbor: [14, 17, 2, 0, 6, 33, 13, 11, 16, 28, 26, 25, 4, 15, 21, 12, 10, 27, 1, 7, 30, 34, 9, 24, 23, 22, 8, 18, 19, 31, 32, 20, 3, 5, 29] with fitness 1.2535801217038536\n",
      "Current solution: [14, 17, 2, 0, 6, 30, 13, 21, 16, 28, 26, 25, 4, 15, 11, 12, 10, 27, 1, 7, 33, 34, 9, 24, 23, 22, 8, 18, 19, 31, 32, 20, 3, 5, 29] with fitness 1.290008693132425\n",
      "Neighbor: [14, 17, 2, 13, 6, 30, 0, 21, 16, 28, 26, 25, 4, 15, 11, 12, 10, 27, 1, 7, 33, 34, 9, 24, 23, 22, 8, 18, 19, 31, 32, 20, 3, 5, 29] with fitness 1.270722978846711\n",
      "Neighbor: [14, 17, 2, 12, 6, 30, 13, 21, 16, 28, 26, 25, 4, 15, 11, 0, 10, 27, 1, 7, 33, 34, 9, 24, 23, 22, 8, 18, 19, 31, 32, 20, 3, 5, 29] with fitness 1.2885801217038537\n",
      "Neighbor: [14, 17, 2, 0, 6, 30, 11, 21, 16, 28, 26, 25, 4, 15, 13, 12, 10, 27, 1, 7, 33, 34, 9, 24, 23, 22, 8, 18, 19, 31, 32, 20, 3, 5, 29] with fitness 1.2442944074181395\n",
      "Neighbor: [14, 31, 2, 0, 6, 30, 13, 21, 16, 28, 26, 25, 4, 15, 11, 12, 10, 27, 1, 7, 33, 34, 9, 24, 23, 22, 8, 18, 19, 17, 32, 20, 3, 5, 29] with fitness 1.233580121703854\n",
      "Neighbor: [14, 17, 2, 0, 1, 30, 13, 21, 16, 28, 26, 25, 4, 15, 11, 12, 10, 27, 6, 7, 33, 34, 9, 24, 23, 22, 8, 18, 19, 31, 32, 20, 3, 5, 29] with fitness 1.257865835989568\n",
      "Neighbor: [14, 17, 2, 0, 6, 30, 13, 21, 16, 28, 26, 25, 4, 15, 11, 12, 10, 27, 1, 7, 33, 34, 5, 24, 23, 22, 8, 18, 19, 31, 32, 20, 3, 9, 29] with fitness 1.2916386554621848\n",
      "Neighbor: [14, 17, 2, 0, 6, 30, 13, 21, 16, 28, 26, 7, 4, 15, 11, 12, 10, 27, 1, 25, 33, 34, 9, 24, 23, 22, 8, 18, 19, 31, 32, 20, 3, 5, 29] with fitness 1.2828658359895682\n",
      "Neighbor: [14, 17, 2, 0, 6, 30, 13, 21, 16, 28, 26, 25, 4, 15, 11, 24, 10, 27, 1, 7, 33, 34, 9, 12, 23, 22, 8, 18, 19, 31, 32, 20, 3, 5, 29] with fitness 1.3121515502752823\n",
      "Neighbor: [14, 17, 2, 0, 6, 30, 13, 21, 16, 28, 26, 25, 4, 15, 11, 12, 10, 27, 1, 7, 31, 34, 9, 24, 23, 22, 8, 18, 19, 33, 32, 20, 3, 5, 29] with fitness 1.2192944074181398\n",
      "Neighbor: [14, 17, 2, 0, 6, 30, 13, 21, 16, 31, 26, 25, 4, 15, 11, 12, 10, 27, 1, 7, 33, 34, 9, 24, 23, 22, 8, 18, 19, 28, 32, 20, 3, 5, 29] with fitness 1.3021515502752825\n",
      "Current solution: [14, 17, 2, 0, 6, 30, 13, 21, 16, 28, 26, 25, 4, 15, 11, 24, 10, 27, 1, 7, 33, 34, 9, 12, 23, 22, 8, 18, 19, 31, 32, 20, 3, 5, 29] with fitness 1.3121515502752823\n",
      "Neighbor: [14, 17, 2, 0, 6, 30, 13, 21, 16, 28, 26, 25, 4, 20, 11, 24, 10, 27, 1, 7, 33, 34, 9, 12, 23, 22, 8, 18, 19, 31, 32, 15, 3, 5, 29] with fitness 1.2559562445667922\n",
      "Neighbor: [14, 17, 2, 0, 6, 30, 16, 21, 13, 28, 26, 25, 4, 15, 11, 24, 10, 27, 1, 7, 33, 34, 9, 12, 23, 22, 8, 18, 19, 31, 32, 20, 3, 5, 29] with fitness 1.3121515502752823\n",
      "Neighbor: [14, 17, 2, 0, 6, 30, 13, 21, 16, 8, 26, 25, 4, 15, 11, 24, 10, 27, 1, 7, 33, 34, 9, 12, 23, 22, 28, 18, 19, 31, 32, 20, 3, 5, 29] with fitness 1.2307229788467111\n",
      "Neighbor: [14, 17, 2, 0, 6, 30, 13, 21, 16, 28, 26, 25, 4, 15, 11, 24, 10, 27, 1, 7, 33, 22, 9, 12, 23, 34, 8, 18, 19, 31, 32, 20, 3, 5, 29] with fitness 1.2971515502752824\n",
      "Neighbor: [14, 17, 2, 0, 6, 30, 13, 21, 16, 28, 26, 25, 4, 15, 20, 24, 10, 27, 1, 7, 33, 34, 9, 12, 23, 22, 8, 18, 19, 31, 32, 11, 3, 5, 29] with fitness 1.1304158215010143\n",
      "Neighbor: [14, 17, 2, 0, 6, 30, 13, 21, 16, 28, 26, 25, 4, 15, 11, 24, 10, 27, 1, 7, 33, 34, 9, 12, 23, 22, 3, 18, 19, 31, 32, 20, 8, 5, 29] with fitness 1.1020226021443063\n",
      "Neighbor: [14, 17, 7, 0, 6, 30, 13, 21, 16, 28, 26, 25, 4, 15, 11, 24, 10, 27, 1, 2, 33, 34, 9, 12, 23, 22, 8, 18, 19, 31, 32, 20, 3, 5, 29] with fitness 1.2500086931324252\n",
      "Neighbor: [14, 17, 2, 0, 6, 30, 13, 21, 16, 28, 26, 25, 4, 15, 11, 24, 10, 27, 1, 7, 33, 34, 9, 12, 5, 22, 8, 18, 19, 31, 32, 20, 3, 23, 29] with fitness 1.3134656621269196\n",
      "Neighbor: [14, 17, 2, 0, 6, 30, 13, 21, 16, 9, 26, 25, 4, 15, 11, 24, 10, 27, 1, 7, 33, 34, 28, 12, 23, 22, 8, 18, 19, 31, 32, 20, 3, 5, 29] with fitness 1.3014372645609966\n",
      "Neighbor: [14, 17, 8, 0, 6, 30, 13, 21, 16, 28, 26, 25, 4, 15, 11, 24, 10, 27, 1, 7, 33, 34, 9, 12, 23, 22, 2, 18, 19, 31, 32, 20, 3, 5, 29] with fitness 1.2264372645609969\n",
      "Current solution: [14, 17, 2, 0, 6, 30, 13, 21, 16, 28, 26, 25, 4, 15, 11, 24, 10, 27, 1, 7, 33, 34, 9, 12, 5, 22, 8, 18, 19, 31, 32, 20, 3, 23, 29] with fitness 1.3134656621269196\n",
      "Neighbor: [14, 17, 2, 0, 6, 30, 13, 21, 16, 28, 26, 25, 4, 15, 11, 24, 10, 27, 1, 7, 33, 34, 9, 23, 5, 22, 8, 18, 19, 31, 32, 20, 3, 12, 29] with fitness 1.2068168646769053\n",
      "Neighbor: [14, 17, 2, 0, 6, 30, 13, 21, 16, 28, 26, 25, 4, 15, 11, 24, 10, 27, 1, 7, 33, 34, 23, 12, 5, 22, 8, 18, 19, 31, 32, 20, 3, 9, 29] with fitness 1.2716386554621848\n",
      "Neighbor: [14, 17, 2, 0, 6, 30, 13, 9, 16, 28, 26, 25, 4, 15, 11, 24, 10, 27, 1, 7, 33, 34, 21, 12, 5, 22, 8, 18, 19, 31, 32, 20, 3, 23, 29] with fitness 1.195608519269777\n",
      "Neighbor: [14, 17, 2, 0, 6, 30, 13, 21, 16, 15, 26, 25, 4, 28, 11, 24, 10, 27, 1, 7, 33, 34, 9, 12, 5, 22, 8, 18, 19, 31, 32, 20, 3, 23, 29] with fitness 1.2541799478412057\n",
      "Neighbor: [14, 17, 2, 0, 6, 30, 13, 21, 16, 18, 26, 25, 4, 15, 11, 24, 10, 27, 1, 7, 33, 34, 9, 12, 5, 22, 8, 28, 19, 31, 32, 20, 3, 23, 29] with fitness 1.2170370906983483\n",
      "Neighbor: [14, 17, 2, 0, 6, 30, 13, 21, 16, 28, 26, 25, 4, 15, 11, 24, 10, 27, 1, 7, 33, 34, 9, 12, 5, 22, 8, 18, 32, 31, 19, 20, 3, 23, 29] with fitness 1.2368356997971603\n",
      "Neighbor: [14, 17, 2, 0, 6, 30, 13, 21, 8, 28, 26, 25, 4, 15, 11, 24, 10, 27, 1, 7, 33, 34, 9, 12, 5, 22, 16, 18, 19, 31, 32, 20, 3, 23, 29] with fitness 1.3413228049840624\n",
      "Neighbor: [14, 17, 2, 0, 6, 30, 13, 21, 16, 28, 26, 25, 5, 15, 11, 24, 10, 27, 1, 7, 33, 34, 9, 12, 4, 22, 8, 18, 19, 31, 32, 20, 3, 23, 29] with fitness 1.3706085192697768\n",
      "Neighbor: [14, 17, 2, 0, 6, 30, 13, 21, 16, 28, 26, 25, 4, 15, 11, 24, 10, 27, 1, 7, 33, 34, 9, 12, 5, 22, 8, 18, 19, 20, 32, 31, 3, 23, 29] with fitness 1.2647841205447699\n",
      "Neighbor: [14, 17, 2, 0, 6, 30, 13, 21, 16, 28, 26, 31, 4, 15, 11, 24, 10, 27, 1, 7, 33, 34, 9, 12, 5, 22, 8, 18, 19, 25, 32, 20, 3, 23, 29] with fitness 1.359894233555491\n",
      "Current solution: [14, 17, 2, 0, 6, 30, 13, 21, 16, 28, 26, 25, 5, 15, 11, 24, 10, 27, 1, 7, 33, 34, 9, 12, 4, 22, 8, 18, 19, 31, 32, 20, 3, 23, 29] with fitness 1.3706085192697768\n",
      "Neighbor: [14, 17, 2, 0, 6, 30, 13, 21, 16, 28, 12, 25, 5, 15, 11, 24, 10, 27, 1, 7, 33, 34, 9, 26, 4, 22, 8, 18, 19, 31, 32, 20, 3, 23, 29] with fitness 1.382751376412634\n",
      "Neighbor: [14, 17, 2, 6, 0, 30, 13, 21, 16, 28, 26, 25, 5, 15, 11, 24, 10, 27, 1, 7, 33, 34, 9, 12, 4, 22, 8, 18, 19, 31, 32, 20, 3, 23, 29] with fitness 1.3706085192697768\n",
      "Neighbor: [14, 17, 2, 0, 6, 30, 13, 21, 16, 28, 26, 25, 5, 15, 11, 24, 10, 27, 29, 7, 33, 34, 9, 12, 4, 22, 8, 18, 19, 31, 32, 20, 3, 23, 1] with fitness 1.2948116487974501\n",
      "Neighbor: [14, 17, 2, 0, 6, 30, 13, 21, 16, 28, 26, 25, 5, 15, 11, 24, 10, 27, 1, 7, 22, 34, 9, 12, 4, 33, 8, 18, 19, 31, 32, 20, 3, 23, 29] with fitness 1.3263228049840625\n",
      "Neighbor: [14, 17, 2, 0, 6, 30, 13, 21, 16, 28, 26, 11, 5, 15, 25, 24, 10, 27, 1, 7, 33, 34, 9, 12, 4, 22, 8, 18, 19, 31, 32, 20, 3, 23, 29] with fitness 1.3706085192697768\n",
      "Neighbor: [14, 17, 2, 0, 6, 30, 13, 21, 1, 28, 26, 25, 5, 15, 11, 24, 10, 27, 16, 7, 33, 34, 9, 12, 4, 22, 8, 18, 19, 31, 32, 20, 3, 23, 29] with fitness 1.3341799478412053\n",
      "Neighbor: [14, 17, 2, 0, 6, 30, 13, 18, 16, 28, 26, 25, 5, 15, 11, 24, 10, 27, 1, 7, 33, 34, 9, 12, 4, 22, 8, 21, 19, 31, 32, 20, 3, 23, 29] with fitness 1.2684656621269197\n",
      "Neighbor: [14, 17, 2, 0, 6, 30, 13, 21, 19, 28, 26, 25, 5, 15, 11, 24, 10, 27, 1, 7, 33, 34, 9, 12, 4, 22, 8, 18, 16, 31, 32, 20, 3, 23, 29] with fitness 1.279894233555491\n",
      "Neighbor: [14, 17, 1, 0, 6, 30, 13, 21, 16, 28, 26, 25, 5, 15, 11, 24, 10, 27, 2, 7, 33, 34, 9, 12, 4, 22, 8, 18, 19, 31, 32, 20, 3, 23, 29] with fitness 1.3306085192697767\n",
      "Neighbor: [14, 17, 2, 0, 6, 19, 13, 21, 16, 28, 26, 25, 5, 15, 11, 24, 10, 27, 1, 7, 33, 34, 9, 12, 4, 22, 8, 18, 30, 31, 32, 20, 3, 23, 29] with fitness 1.2856085192697768\n",
      "Current solution: [14, 17, 2, 0, 6, 30, 13, 21, 16, 28, 12, 25, 5, 15, 11, 24, 10, 27, 1, 7, 33, 34, 9, 26, 4, 22, 8, 18, 19, 31, 32, 20, 3, 23, 29] with fitness 1.382751376412634\n",
      "Neighbor: [14, 17, 2, 0, 6, 30, 13, 21, 16, 28, 12, 11, 5, 15, 25, 24, 10, 27, 1, 7, 33, 34, 9, 26, 4, 22, 8, 18, 19, 31, 32, 20, 3, 23, 29] with fitness 1.382751376412634\n",
      "Neighbor: [14, 17, 2, 0, 6, 30, 13, 21, 16, 28, 12, 25, 5, 15, 11, 24, 10, 27, 1, 7, 33, 34, 9, 26, 4, 22, 8, 18, 23, 31, 32, 20, 3, 19, 29] with fitness 1.3190423065778036\n",
      "Neighbor: [14, 17, 2, 0, 25, 30, 13, 21, 16, 28, 12, 6, 5, 15, 11, 24, 10, 27, 1, 7, 33, 34, 9, 26, 4, 22, 8, 18, 19, 31, 32, 20, 3, 23, 29] with fitness 1.3020370906983483\n",
      "Neighbor: [14, 17, 2, 0, 6, 30, 13, 21, 16, 28, 12, 25, 5, 15, 11, 24, 10, 27, 1, 7, 33, 34, 9, 22, 4, 26, 8, 18, 19, 31, 32, 20, 3, 23, 29] with fitness 1.3763228049840626\n",
      "Neighbor: [14, 17, 2, 0, 15, 30, 13, 21, 16, 28, 12, 25, 5, 6, 11, 24, 10, 27, 1, 7, 33, 34, 9, 26, 4, 22, 8, 18, 19, 31, 32, 20, 3, 23, 29] with fitness 1.319894233555491\n",
      "Neighbor: [14, 17, 2, 0, 6, 30, 13, 21, 16, 28, 12, 25, 5, 15, 11, 24, 10, 27, 1, 7, 33, 34, 9, 8, 4, 22, 26, 18, 19, 31, 32, 20, 3, 23, 29] with fitness 1.3577513764126339\n",
      "Neighbor: [14, 17, 2, 0, 6, 30, 13, 21, 16, 28, 20, 25, 5, 15, 11, 24, 10, 27, 1, 7, 33, 34, 9, 26, 4, 22, 8, 18, 19, 31, 32, 12, 3, 23, 29] with fitness 1.270557809330629\n",
      "Neighbor: [14, 17, 2, 0, 6, 30, 5, 21, 16, 28, 12, 25, 13, 15, 11, 24, 10, 27, 1, 7, 33, 34, 9, 26, 4, 22, 8, 18, 19, 31, 32, 20, 3, 23, 29] with fitness 1.3484656621269195\n",
      "Neighbor: [14, 17, 2, 0, 6, 30, 13, 21, 16, 28, 12, 25, 5, 15, 11, 4, 10, 27, 1, 7, 33, 34, 9, 26, 24, 22, 8, 18, 19, 31, 32, 20, 3, 23, 29] with fitness 1.3848942335554912\n",
      "Neighbor: [14, 17, 2, 0, 6, 30, 13, 21, 16, 28, 12, 25, 5, 15, 11, 24, 10, 23, 1, 7, 33, 34, 9, 26, 4, 22, 8, 18, 19, 31, 32, 20, 3, 27, 29] with fitness 1.3459837728194728\n",
      "Current solution: [14, 17, 2, 0, 6, 30, 13, 21, 16, 28, 12, 25, 5, 15, 11, 4, 10, 27, 1, 7, 33, 34, 9, 26, 24, 22, 8, 18, 19, 31, 32, 20, 3, 23, 29] with fitness 1.3848942335554912\n",
      "Neighbor: [14, 17, 2, 0, 6, 30, 13, 21, 16, 28, 12, 25, 15, 5, 11, 4, 10, 27, 1, 7, 33, 34, 9, 26, 24, 22, 8, 18, 19, 31, 32, 20, 3, 23, 29] with fitness 1.3848942335554912\n",
      "Neighbor: [14, 17, 2, 0, 6, 30, 13, 21, 16, 28, 12, 25, 5, 15, 11, 4, 10, 27, 1, 7, 33, 34, 9, 26, 24, 22, 8, 18, 19, 31, 23, 20, 3, 32, 29] with fitness 1.3848942335554912\n",
      "Neighbor: [14, 17, 2, 0, 6, 30, 13, 21, 16, 28, 12, 25, 5, 15, 11, 4, 10, 27, 1, 7, 33, 34, 9, 26, 24, 22, 18, 8, 19, 31, 32, 20, 3, 23, 29] with fitness 1.3848942335554912\n",
      "Neighbor: [14, 17, 2, 0, 6, 30, 13, 21, 16, 28, 12, 25, 5, 15, 11, 4, 10, 27, 1, 7, 33, 34, 9, 26, 24, 22, 8, 18, 31, 19, 32, 20, 3, 23, 29] with fitness 1.3848942335554912\n",
      "Neighbor: [14, 17, 2, 0, 6, 30, 13, 21, 16, 28, 12, 25, 5, 15, 11, 24, 10, 27, 1, 7, 33, 34, 9, 26, 4, 22, 8, 18, 19, 31, 32, 20, 3, 23, 29] with fitness 1.382751376412634\n",
      "Neighbor: [14, 6, 2, 0, 17, 30, 13, 21, 16, 28, 12, 25, 5, 15, 11, 4, 10, 27, 1, 7, 33, 34, 9, 26, 24, 22, 8, 18, 19, 31, 32, 20, 3, 23, 29] with fitness 1.384894233555491\n",
      "Neighbor: [14, 17, 2, 0, 6, 30, 13, 21, 16, 28, 12, 25, 5, 15, 11, 4, 10, 27, 1, 7, 33, 34, 9, 26, 24, 22, 8, 20, 19, 31, 32, 18, 3, 23, 29] with fitness 1.346011301072153\n",
      "Neighbor: [14, 17, 2, 0, 6, 30, 13, 21, 16, 28, 12, 23, 5, 15, 11, 4, 10, 27, 1, 7, 33, 34, 9, 26, 24, 22, 8, 18, 19, 31, 32, 20, 3, 25, 29] with fitness 1.368323674297305\n",
      "Neighbor: [14, 17, 2, 0, 6, 30, 13, 34, 16, 28, 12, 25, 5, 15, 11, 4, 10, 27, 1, 7, 33, 21, 9, 26, 24, 22, 8, 18, 19, 31, 32, 20, 3, 23, 29] with fitness 1.3741799478412053\n",
      "Neighbor: [26, 17, 2, 0, 6, 30, 13, 21, 16, 28, 12, 25, 5, 15, 11, 4, 10, 27, 1, 7, 33, 34, 9, 14, 24, 22, 8, 18, 19, 31, 32, 20, 3, 23, 29] with fitness 1.3206085192697767\n",
      "Current solution: [14, 17, 2, 0, 6, 30, 13, 21, 16, 28, 12, 25, 5, 15, 11, 4, 10, 27, 1, 7, 33, 34, 9, 26, 24, 22, 8, 18, 31, 19, 32, 20, 3, 23, 29] with fitness 1.3848942335554912\n",
      "Neighbor: [14, 8, 2, 0, 6, 30, 13, 21, 16, 28, 12, 25, 5, 15, 11, 4, 10, 27, 1, 7, 33, 34, 9, 26, 24, 22, 17, 18, 31, 19, 32, 20, 3, 23, 29] with fitness 1.3848942335554912\n",
      "Neighbor: [14, 32, 2, 0, 6, 30, 13, 21, 16, 28, 12, 25, 5, 15, 11, 4, 10, 27, 1, 7, 33, 34, 9, 26, 24, 22, 8, 18, 31, 19, 17, 20, 3, 23, 29] with fitness 1.3579759490002896\n",
      "Neighbor: [14, 11, 2, 0, 6, 30, 13, 21, 16, 28, 12, 25, 5, 15, 17, 4, 10, 27, 1, 7, 33, 34, 9, 26, 24, 22, 8, 18, 31, 19, 32, 20, 3, 23, 29] with fitness 1.384894233555491\n",
      "Neighbor: [14, 17, 2, 0, 6, 30, 13, 21, 16, 28, 12, 25, 5, 15, 11, 4, 10, 27, 1, 7, 33, 34, 9, 26, 24, 23, 8, 18, 31, 19, 32, 20, 3, 22, 29] with fitness 1.3566661837148652\n",
      "Neighbor: [14, 17, 2, 0, 6, 30, 13, 21, 16, 28, 12, 25, 5, 15, 22, 4, 10, 27, 1, 7, 33, 34, 9, 26, 24, 11, 8, 18, 31, 19, 32, 20, 3, 23, 29] with fitness 1.4091799478412055\n",
      "Neighbor: [14, 17, 2, 0, 6, 30, 13, 21, 16, 28, 12, 25, 5, 15, 11, 4, 10, 27, 1, 7, 33, 34, 9, 26, 24, 22, 8, 18, 19, 31, 32, 20, 3, 23, 29] with fitness 1.3848942335554912\n",
      "Neighbor: [9, 17, 2, 0, 6, 30, 13, 21, 16, 28, 12, 25, 5, 15, 11, 4, 10, 27, 1, 7, 33, 34, 14, 26, 24, 22, 8, 18, 31, 19, 32, 20, 3, 23, 29] with fitness 1.3506085192697768\n",
      "Neighbor: [14, 17, 23, 0, 6, 30, 13, 21, 16, 28, 12, 25, 5, 15, 11, 4, 10, 27, 1, 7, 33, 34, 9, 26, 24, 22, 8, 18, 31, 19, 32, 20, 3, 2, 29] with fitness 1.2950767893364243\n",
      "Neighbor: [14, 17, 2, 0, 6, 30, 13, 21, 16, 28, 12, 25, 5, 15, 11, 26, 10, 27, 1, 7, 33, 34, 9, 4, 24, 22, 8, 18, 31, 19, 32, 20, 3, 23, 29] with fitness 1.362751376412634\n",
      "Neighbor: [14, 17, 2, 0, 6, 30, 13, 21, 16, 28, 12, 8, 5, 15, 11, 4, 10, 27, 1, 7, 33, 34, 9, 26, 24, 22, 25, 18, 31, 19, 32, 20, 3, 23, 29] with fitness 1.3520370906983483\n",
      "Current solution: [14, 17, 2, 0, 6, 30, 13, 21, 16, 28, 12, 25, 5, 15, 22, 4, 10, 27, 1, 7, 33, 34, 9, 26, 24, 11, 8, 18, 31, 19, 32, 20, 3, 23, 29] with fitness 1.4091799478412055\n",
      "Neighbor: [14, 17, 2, 34, 6, 30, 13, 21, 16, 28, 12, 25, 5, 15, 22, 4, 10, 27, 1, 7, 33, 0, 9, 26, 24, 11, 8, 18, 31, 19, 32, 20, 3, 23, 29] with fitness 1.3941799478412054\n",
      "Neighbor: [28, 17, 2, 0, 6, 30, 13, 21, 16, 14, 12, 25, 5, 15, 22, 4, 10, 27, 1, 7, 33, 34, 9, 26, 24, 11, 8, 18, 31, 19, 32, 20, 3, 23, 29] with fitness 1.332751376412634\n",
      "Neighbor: [14, 5, 2, 0, 6, 30, 13, 21, 16, 28, 12, 25, 17, 15, 22, 4, 10, 27, 1, 7, 33, 34, 9, 26, 24, 11, 8, 18, 31, 19, 32, 20, 3, 23, 29] with fitness 1.3970370906983482\n",
      "Neighbor: [14, 17, 2, 0, 6, 30, 13, 21, 26, 28, 12, 25, 5, 15, 22, 4, 10, 27, 1, 7, 33, 34, 9, 16, 24, 11, 8, 18, 31, 19, 32, 20, 3, 23, 29] with fitness 1.4141799478412054\n",
      "Neighbor: [14, 17, 2, 0, 6, 30, 19, 21, 16, 28, 12, 25, 5, 15, 22, 4, 10, 27, 1, 7, 33, 34, 9, 26, 24, 11, 8, 18, 31, 13, 32, 20, 3, 23, 29] with fitness 1.3748942335554912\n",
      "Neighbor: [14, 17, 2, 0, 6, 30, 13, 21, 16, 28, 12, 25, 5, 15, 22, 4, 10, 27, 1, 7, 24, 34, 9, 26, 33, 11, 8, 18, 31, 19, 32, 20, 3, 23, 29] with fitness 1.4091799478412055\n",
      "Neighbor: [14, 17, 2, 0, 6, 30, 13, 21, 16, 28, 12, 25, 5, 15, 22, 4, 10, 27, 1, 7, 33, 34, 9, 26, 24, 11, 8, 18, 20, 19, 32, 31, 3, 23, 29] with fitness 1.3583555491161983\n",
      "Neighbor: [14, 17, 2, 0, 26, 30, 13, 21, 16, 28, 12, 25, 5, 15, 22, 4, 10, 27, 1, 7, 33, 34, 9, 6, 24, 11, 8, 18, 31, 19, 32, 20, 3, 23, 29] with fitness 1.385608519269777\n",
      "Neighbor: [14, 17, 13, 0, 6, 30, 2, 21, 16, 28, 12, 25, 5, 15, 22, 4, 10, 27, 1, 7, 33, 34, 9, 26, 24, 11, 8, 18, 31, 19, 32, 20, 3, 23, 29] with fitness 1.3577513764126339\n",
      "Neighbor: [14, 17, 2, 0, 6, 30, 13, 21, 16, 28, 12, 25, 5, 15, 22, 1, 10, 27, 4, 7, 33, 34, 9, 26, 24, 11, 8, 18, 31, 19, 32, 20, 3, 23, 29] with fitness 1.4091799478412055\n",
      "Current solution: [14, 17, 2, 0, 6, 30, 13, 21, 26, 28, 12, 25, 5, 15, 22, 4, 10, 27, 1, 7, 33, 34, 9, 16, 24, 11, 8, 18, 31, 19, 32, 20, 3, 23, 29] with fitness 1.4141799478412054\n",
      "Neighbor: [14, 17, 2, 0, 6, 30, 13, 21, 26, 28, 12, 25, 5, 15, 22, 4, 10, 27, 1, 7, 29, 34, 9, 16, 24, 11, 8, 18, 31, 19, 32, 20, 3, 23, 33] with fitness 1.2198159953636625\n",
      "Neighbor: [14, 17, 2, 0, 6, 30, 13, 21, 26, 28, 12, 25, 5, 15, 22, 4, 10, 27, 1, 7, 33, 34, 9, 20, 24, 11, 8, 18, 31, 19, 32, 16, 3, 23, 29] with fitness 1.346753115039119\n",
      "Neighbor: [14, 17, 2, 0, 6, 30, 13, 21, 26, 28, 12, 25, 5, 15, 22, 4, 10, 27, 1, 7, 33, 34, 9, 32, 24, 11, 8, 18, 31, 19, 16, 20, 3, 23, 29] with fitness 1.3700912778904664\n",
      "Neighbor: [14, 17, 2, 0, 6, 30, 13, 21, 26, 15, 12, 25, 5, 28, 22, 4, 10, 27, 1, 7, 33, 34, 9, 16, 24, 11, 8, 18, 31, 19, 32, 20, 3, 23, 29] with fitness 1.3063228049840625\n",
      "Neighbor: [14, 17, 2, 0, 6, 30, 13, 21, 26, 28, 12, 25, 5, 15, 22, 4, 3, 27, 1, 7, 33, 34, 9, 16, 24, 11, 8, 18, 31, 19, 32, 20, 10, 23, 29] with fitness 1.3788684439292958\n",
      "Neighbor: [14, 17, 2, 12, 6, 30, 13, 21, 26, 28, 0, 25, 5, 15, 22, 4, 10, 27, 1, 7, 33, 34, 9, 16, 24, 11, 8, 18, 31, 19, 32, 20, 3, 23, 29] with fitness 1.38346566212692\n",
      "Neighbor: [14, 17, 2, 0, 6, 30, 13, 21, 26, 28, 12, 25, 5, 15, 3, 4, 10, 27, 1, 7, 33, 34, 9, 16, 24, 11, 8, 18, 31, 19, 32, 20, 22, 23, 29] with fitness 1.3446377861489425\n",
      "Neighbor: [14, 17, 2, 0, 6, 30, 13, 21, 1, 28, 12, 25, 5, 15, 22, 4, 10, 27, 26, 7, 33, 34, 9, 16, 24, 11, 8, 18, 31, 19, 32, 20, 3, 23, 29] with fitness 1.3570370906983482\n",
      "Neighbor: [14, 17, 2, 0, 6, 30, 13, 21, 26, 28, 12, 25, 11, 15, 22, 4, 10, 27, 1, 7, 33, 34, 9, 16, 24, 5, 8, 18, 31, 19, 32, 20, 3, 23, 29] with fitness 1.320608519269777\n",
      "Neighbor: [14, 17, 2, 4, 6, 30, 13, 21, 26, 28, 12, 25, 5, 15, 22, 0, 10, 27, 1, 7, 33, 34, 9, 16, 24, 11, 8, 18, 31, 19, 32, 20, 3, 23, 29] with fitness 1.3641799478412053\n",
      "1.4141799478412054\n"
     ]
    }
   ],
   "source": [
    "solution = hill_climbing(lineup, maximization=True, max_iter=1000, verbose=True)\n",
    "print(solution.fitness())"
   ]
  },
  {
   "cell_type": "code",
   "execution_count": 67,
   "id": "9f4cfdd3",
   "metadata": {},
   "outputs": [
    {
     "data": {
      "text/html": [
       "<div>\n",
       "<style scoped>\n",
       "    .dataframe tbody tr th:only-of-type {\n",
       "        vertical-align: middle;\n",
       "    }\n",
       "\n",
       "    .dataframe tbody tr th {\n",
       "        vertical-align: top;\n",
       "    }\n",
       "\n",
       "    .dataframe thead th {\n",
       "        text-align: right;\n",
       "    }\n",
       "</style>\n",
       "<table border=\"1\" class=\"dataframe\">\n",
       "  <thead>\n",
       "    <tr style=\"text-align: right;\">\n",
       "      <th></th>\n",
       "      <th>Slot</th>\n",
       "      <th>Stage 1</th>\n",
       "      <th>Stage 2</th>\n",
       "      <th>Stage 3</th>\n",
       "      <th>Stage 4</th>\n",
       "      <th>Stage 5</th>\n",
       "    </tr>\n",
       "  </thead>\n",
       "  <tbody>\n",
       "    <tr>\n",
       "      <th>0</th>\n",
       "      <td>Slot 1</td>\n",
       "      <td>14: Synthwave Saints|Rock|94</td>\n",
       "      <td>17: Nightfall Sonata|Classical|84</td>\n",
       "      <td>2: Velvet Pulse|Jazz|35</td>\n",
       "      <td>0: Midnight Echo|Rock|75</td>\n",
       "      <td>6: Aurora Skies|Pop|75</td>\n",
       "    </tr>\n",
       "    <tr>\n",
       "      <th>1</th>\n",
       "      <td>Slot 2</td>\n",
       "      <td>30: Turbo Vortex|Rock|53</td>\n",
       "      <td>13: Lunar Spectrum|Rock|99</td>\n",
       "      <td>21: Celestial Voyage|Electronic|95</td>\n",
       "      <td>26: Cloud Nine Collective|Pop|97</td>\n",
       "      <td>28: The Polyrhythm Syndicate|Jazz|66</td>\n",
       "    </tr>\n",
       "    <tr>\n",
       "      <th>2</th>\n",
       "      <td>Slot 3</td>\n",
       "      <td>12: Blue Horizon|Pop|51</td>\n",
       "      <td>25: Rhythm Alchemy|Jazz|94</td>\n",
       "      <td>5: Echo Chamber|Electronic|98</td>\n",
       "      <td>15: Golden Ember|Rock|61</td>\n",
       "      <td>22: Quantum Beat|Hip-Hop|96</td>\n",
       "    </tr>\n",
       "    <tr>\n",
       "      <th>3</th>\n",
       "      <td>Slot 4</td>\n",
       "      <td>4: The Silver Owls|Classical|85</td>\n",
       "      <td>10: The Wandering Notes|Jazz|84</td>\n",
       "      <td>27: Hypnotic Echoes|Rock|77</td>\n",
       "      <td>1: Solar Flare|Electronic|78</td>\n",
       "      <td>7: Static Mirage|Rock|94</td>\n",
       "    </tr>\n",
       "    <tr>\n",
       "      <th>4</th>\n",
       "      <td>Slot 5</td>\n",
       "      <td>33: Cosmic Frequency|Rock|53</td>\n",
       "      <td>34: Parallel Dimension|Electronic|58</td>\n",
       "      <td>9: Deep Resonance|Jazz|90</td>\n",
       "      <td>16: Mystic Rhythms|Classical|78</td>\n",
       "      <td>24: Shadow Cadence|Jazz|66</td>\n",
       "    </tr>\n",
       "    <tr>\n",
       "      <th>5</th>\n",
       "      <td>Slot 6</td>\n",
       "      <td>11: Phantom Groove|Hip-Hop|47</td>\n",
       "      <td>8: Crimson Harmony|Classical|20</td>\n",
       "      <td>18: Velvet Underground|Rock|72</td>\n",
       "      <td>31: The Jazz Nomads|Jazz|64</td>\n",
       "      <td>19: Astral Tide|Electronic|69</td>\n",
       "    </tr>\n",
       "    <tr>\n",
       "      <th>6</th>\n",
       "      <td>Slot 7</td>\n",
       "      <td>32: The Bassline Architects|Hip-Hop|61</td>\n",
       "      <td>20: The Sonic Drifters|Rock|88</td>\n",
       "      <td>3: Neon Reverie|Electronic|100</td>\n",
       "      <td>23: Electric Serpents|Electronic|99</td>\n",
       "      <td>29: Harmonic Dissonance|Classical|96</td>\n",
       "    </tr>\n",
       "  </tbody>\n",
       "</table>\n",
       "</div>"
      ],
      "text/plain": [
       "     Slot                                 Stage 1  \\\n",
       "0  Slot 1            14: Synthwave Saints|Rock|94   \n",
       "1  Slot 2                30: Turbo Vortex|Rock|53   \n",
       "2  Slot 3                 12: Blue Horizon|Pop|51   \n",
       "3  Slot 4         4: The Silver Owls|Classical|85   \n",
       "4  Slot 5            33: Cosmic Frequency|Rock|53   \n",
       "5  Slot 6           11: Phantom Groove|Hip-Hop|47   \n",
       "6  Slot 7  32: The Bassline Architects|Hip-Hop|61   \n",
       "\n",
       "                                Stage 2                             Stage 3  \\\n",
       "0     17: Nightfall Sonata|Classical|84             2: Velvet Pulse|Jazz|35   \n",
       "1            13: Lunar Spectrum|Rock|99  21: Celestial Voyage|Electronic|95   \n",
       "2            25: Rhythm Alchemy|Jazz|94       5: Echo Chamber|Electronic|98   \n",
       "3       10: The Wandering Notes|Jazz|84         27: Hypnotic Echoes|Rock|77   \n",
       "4  34: Parallel Dimension|Electronic|58           9: Deep Resonance|Jazz|90   \n",
       "5       8: Crimson Harmony|Classical|20      18: Velvet Underground|Rock|72   \n",
       "6        20: The Sonic Drifters|Rock|88      3: Neon Reverie|Electronic|100   \n",
       "\n",
       "                               Stage 4                               Stage 5  \n",
       "0             0: Midnight Echo|Rock|75                6: Aurora Skies|Pop|75  \n",
       "1     26: Cloud Nine Collective|Pop|97  28: The Polyrhythm Syndicate|Jazz|66  \n",
       "2             15: Golden Ember|Rock|61           22: Quantum Beat|Hip-Hop|96  \n",
       "3         1: Solar Flare|Electronic|78              7: Static Mirage|Rock|94  \n",
       "4      16: Mystic Rhythms|Classical|78            24: Shadow Cadence|Jazz|66  \n",
       "5          31: The Jazz Nomads|Jazz|64         19: Astral Tide|Electronic|69  \n",
       "6  23: Electric Serpents|Electronic|99  29: Harmonic Dissonance|Classical|96  "
      ]
     },
     "execution_count": 67,
     "metadata": {},
     "output_type": "execute_result"
    }
   ],
   "source": [
    "visualize_musical_lineup(solution.repr, data.artists)"
   ]
  },
  {
   "cell_type": "markdown",
   "id": "59fc826b",
   "metadata": {},
   "source": [
    "### Roulette Wheel"
   ]
  },
  {
   "cell_type": "code",
   "execution_count": null,
   "id": "ea448fbd",
   "metadata": {},
   "outputs": [],
   "source": []
  }
 ],
 "metadata": {
  "kernelspec": {
   "display_name": "Python 3 (ipykernel)",
   "language": "python",
   "name": "python3"
  },
  "language_info": {
   "codemirror_mode": {
    "name": "ipython",
    "version": 3
   },
   "file_extension": ".py",
   "mimetype": "text/x-python",
   "name": "python",
   "nbconvert_exporter": "python",
   "pygments_lexer": "ipython3",
   "version": "3.12.2"
  }
 },
 "nbformat": 4,
 "nbformat_minor": 5
}
